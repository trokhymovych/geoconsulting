{
 "cells": [
  {
   "cell_type": "markdown",
   "metadata": {},
   "source": [
    "# Extracting big data"
   ]
  },
  {
   "cell_type": "markdown",
   "metadata": {},
   "source": [
    "## Check ins data"
   ]
  },
  {
   "cell_type": "code",
   "execution_count": 1,
   "metadata": {
    "ExecuteTime": {
     "end_time": "2019-05-17T06:38:17.106902Z",
     "start_time": "2019-05-17T06:34:00.715330Z"
    },
    "scrolled": true
   },
   "outputs": [
    {
     "name": "stderr",
     "output_type": "stream",
     "text": [
      "91it [02:26,  1.61s/it]\n"
     ]
    }
   ],
   "source": [
    "import pandas as pd \n",
    "from tqdm import tqdm\n",
    "\n",
    "PATH = 'raw_Checkins_anonymized.txt'\n",
    "chunksize = 1000000 \n",
    "traintypes = {\n",
    "'user':'str',\n",
    "'ven':'str',\n",
    "'time':'str',\n",
    "'offset':'float'}\n",
    "\n",
    "cols = list(traintypes.keys())\n",
    "\n",
    "df_list = [] # list to hold the batch dataframe\n",
    "\n",
    "for df_chunk in tqdm(pd.read_csv(PATH, names=cols, dtype=traintypes, chunksize=chunksize, sep='\\t')):\n",
    "    # Can process each chunk of dataframe here\n",
    "    # clean_data(), feature_engineer(),fit()\n",
    "\n",
    "    # Alternatively, append the chunk to list and merge all\n",
    "    df_list.append(df_chunk) \n",
    "\n",
    "# Merge all dataframes into one dataframe\n",
    "X = pd.concat(df_list)\n",
    "\n",
    "# Delete the dataframe list to release memory\n",
    "del df_list\n",
    "del df_chunk"
   ]
  },
  {
   "cell_type": "code",
   "execution_count": 2,
   "metadata": {
    "ExecuteTime": {
     "end_time": "2019-05-17T06:38:17.304444Z",
     "start_time": "2019-05-17T06:38:17.141823Z"
    }
   },
   "outputs": [
    {
     "data": {
      "text/html": [
       "<div>\n",
       "<style scoped>\n",
       "    .dataframe tbody tr th:only-of-type {\n",
       "        vertical-align: middle;\n",
       "    }\n",
       "\n",
       "    .dataframe tbody tr th {\n",
       "        vertical-align: top;\n",
       "    }\n",
       "\n",
       "    .dataframe thead th {\n",
       "        text-align: right;\n",
       "    }\n",
       "</style>\n",
       "<table border=\"1\" class=\"dataframe\">\n",
       "  <thead>\n",
       "    <tr style=\"text-align: right;\">\n",
       "      <th></th>\n",
       "      <th>user</th>\n",
       "      <th>ven</th>\n",
       "      <th>time</th>\n",
       "      <th>offset</th>\n",
       "    </tr>\n",
       "  </thead>\n",
       "  <tbody>\n",
       "    <tr>\n",
       "      <th>0</th>\n",
       "      <td>546830</td>\n",
       "      <td>4f5e3a72e4b053fd6a4313f6</td>\n",
       "      <td>Tue Apr 03 18:00:06 +0000 2012</td>\n",
       "      <td>240.0</td>\n",
       "    </tr>\n",
       "    <tr>\n",
       "      <th>1</th>\n",
       "      <td>822121</td>\n",
       "      <td>4b4b87b5f964a5204a9f26e3</td>\n",
       "      <td>Tue Apr 03 18:00:07 +0000 2012</td>\n",
       "      <td>180.0</td>\n",
       "    </tr>\n",
       "    <tr>\n",
       "      <th>2</th>\n",
       "      <td>2277773</td>\n",
       "      <td>4a85b1b3f964a520eefe1fe3</td>\n",
       "      <td>Tue Apr 03 18:00:08 +0000 2012</td>\n",
       "      <td>-240.0</td>\n",
       "    </tr>\n",
       "    <tr>\n",
       "      <th>3</th>\n",
       "      <td>208842</td>\n",
       "      <td>4b4606f2f964a520751426e3</td>\n",
       "      <td>Tue Apr 03 18:00:08 +0000 2012</td>\n",
       "      <td>-300.0</td>\n",
       "    </tr>\n",
       "    <tr>\n",
       "      <th>4</th>\n",
       "      <td>1139878</td>\n",
       "      <td>4d9254ef62ad5481fa6e6a4b</td>\n",
       "      <td>Tue Apr 03 18:00:08 +0000 2012</td>\n",
       "      <td>-180.0</td>\n",
       "    </tr>\n",
       "  </tbody>\n",
       "</table>\n",
       "</div>"
      ],
      "text/plain": [
       "      user                       ven                            time  offset\n",
       "0   546830  4f5e3a72e4b053fd6a4313f6  Tue Apr 03 18:00:06 +0000 2012   240.0\n",
       "1   822121  4b4b87b5f964a5204a9f26e3  Tue Apr 03 18:00:07 +0000 2012   180.0\n",
       "2  2277773  4a85b1b3f964a520eefe1fe3  Tue Apr 03 18:00:08 +0000 2012  -240.0\n",
       "3   208842  4b4606f2f964a520751426e3  Tue Apr 03 18:00:08 +0000 2012  -300.0\n",
       "4  1139878  4d9254ef62ad5481fa6e6a4b  Tue Apr 03 18:00:08 +0000 2012  -180.0"
      ]
     },
     "execution_count": 2,
     "metadata": {},
     "output_type": "execute_result"
    }
   ],
   "source": [
    "X.head()"
   ]
  },
  {
   "cell_type": "markdown",
   "metadata": {},
   "source": [
    "## Venues data"
   ]
  },
  {
   "cell_type": "code",
   "execution_count": 3,
   "metadata": {
    "ExecuteTime": {
     "end_time": "2019-05-17T06:38:39.714305Z",
     "start_time": "2019-05-17T06:38:17.317849Z"
    }
   },
   "outputs": [
    {
     "name": "stderr",
     "output_type": "stream",
     "text": [
      "23it [00:17,  1.64it/s]\n"
     ]
    }
   ],
   "source": [
    "import pandas as pd \n",
    "from tqdm import tqdm\n",
    "\n",
    "PATH = 'raw_POIs.txt'\n",
    "chunksize = 500000 \n",
    "traintypes = {\n",
    "'ven':'str',\n",
    "'lat':'float',\n",
    "'lon':'float',\n",
    "'cat':'str',\n",
    "'country':'str'}\n",
    "\n",
    "cols = list(traintypes.keys())\n",
    "\n",
    "df_list = [] # list to hold the batch dataframe\n",
    "\n",
    "for df_chunk in tqdm(pd.read_csv(PATH, names=cols, dtype=traintypes, chunksize=chunksize, sep='\\t')):\n",
    "    # Can process each chunk of dataframe here\n",
    "    # clean_data(), feature_engineer(),fit()\n",
    "\n",
    "    # Alternatively, append the chunk to list and merge all\n",
    "    df_list.append(df_chunk) \n",
    "\n",
    "# Merge all dataframes into one dataframe\n",
    "Y = pd.concat(df_list)\n",
    "\n",
    "# Delete the dataframe list to release memory\n",
    "del df_list\n",
    "del df_chunk"
   ]
  },
  {
   "cell_type": "code",
   "execution_count": 4,
   "metadata": {
    "ExecuteTime": {
     "end_time": "2019-05-17T06:38:39.752428Z",
     "start_time": "2019-05-17T06:38:39.724472Z"
    },
    "scrolled": true
   },
   "outputs": [
    {
     "data": {
      "text/html": [
       "<div>\n",
       "<style scoped>\n",
       "    .dataframe tbody tr th:only-of-type {\n",
       "        vertical-align: middle;\n",
       "    }\n",
       "\n",
       "    .dataframe tbody tr th {\n",
       "        vertical-align: top;\n",
       "    }\n",
       "\n",
       "    .dataframe thead th {\n",
       "        text-align: right;\n",
       "    }\n",
       "</style>\n",
       "<table border=\"1\" class=\"dataframe\">\n",
       "  <thead>\n",
       "    <tr style=\"text-align: right;\">\n",
       "      <th></th>\n",
       "      <th>ven</th>\n",
       "      <th>lat</th>\n",
       "      <th>lon</th>\n",
       "      <th>cat</th>\n",
       "      <th>country</th>\n",
       "    </tr>\n",
       "  </thead>\n",
       "  <tbody>\n",
       "    <tr>\n",
       "      <th>0</th>\n",
       "      <td>3fd66200f964a52000e61ee3</td>\n",
       "      <td>40.729209</td>\n",
       "      <td>-73.998753</td>\n",
       "      <td>Post Office</td>\n",
       "      <td>US</td>\n",
       "    </tr>\n",
       "    <tr>\n",
       "      <th>1</th>\n",
       "      <td>3fd66200f964a52000e71ee3</td>\n",
       "      <td>40.733596</td>\n",
       "      <td>-74.003139</td>\n",
       "      <td>Jazz Club</td>\n",
       "      <td>US</td>\n",
       "    </tr>\n",
       "    <tr>\n",
       "      <th>2</th>\n",
       "      <td>3fd66200f964a52000e81ee3</td>\n",
       "      <td>40.758102</td>\n",
       "      <td>-73.975734</td>\n",
       "      <td>Gym</td>\n",
       "      <td>US</td>\n",
       "    </tr>\n",
       "    <tr>\n",
       "      <th>3</th>\n",
       "      <td>3fd66200f964a52000ea1ee3</td>\n",
       "      <td>40.732456</td>\n",
       "      <td>-74.003755</td>\n",
       "      <td>Indian Restaurant</td>\n",
       "      <td>US</td>\n",
       "    </tr>\n",
       "    <tr>\n",
       "      <th>4</th>\n",
       "      <td>3fd66200f964a52000ec1ee3</td>\n",
       "      <td>42.345907</td>\n",
       "      <td>-71.087001</td>\n",
       "      <td>Indian Restaurant</td>\n",
       "      <td>US</td>\n",
       "    </tr>\n",
       "  </tbody>\n",
       "</table>\n",
       "</div>"
      ],
      "text/plain": [
       "                        ven        lat        lon                cat country\n",
       "0  3fd66200f964a52000e61ee3  40.729209 -73.998753        Post Office      US\n",
       "1  3fd66200f964a52000e71ee3  40.733596 -74.003139          Jazz Club      US\n",
       "2  3fd66200f964a52000e81ee3  40.758102 -73.975734                Gym      US\n",
       "3  3fd66200f964a52000ea1ee3  40.732456 -74.003755  Indian Restaurant      US\n",
       "4  3fd66200f964a52000ec1ee3  42.345907 -71.087001  Indian Restaurant      US"
      ]
     },
     "execution_count": 4,
     "metadata": {},
     "output_type": "execute_result"
    }
   ],
   "source": [
    "Y.head()"
   ]
  },
  {
   "cell_type": "markdown",
   "metadata": {},
   "source": [
    "# Data observation"
   ]
  },
  {
   "cell_type": "markdown",
   "metadata": {
    "ExecuteTime": {
     "end_time": "2019-04-30T07:54:13.312275Z",
     "start_time": "2019-04-30T07:54:13.309202Z"
    }
   },
   "source": [
    "## Observing global venues data"
   ]
  },
  {
   "cell_type": "code",
   "execution_count": 5,
   "metadata": {
    "ExecuteTime": {
     "end_time": "2019-05-17T06:38:45.294239Z",
     "start_time": "2019-05-17T06:38:39.754508Z"
    }
   },
   "outputs": [],
   "source": [
    "Y_UA = Y[Y.country=='UA']"
   ]
  },
  {
   "cell_type": "code",
   "execution_count": 12,
   "metadata": {
    "ExecuteTime": {
     "end_time": "2019-05-17T06:49:21.024735Z",
     "start_time": "2019-05-17T06:49:18.977002Z"
    }
   },
   "outputs": [],
   "source": [
    "Y_UA.to_csv('venues_in_Ukraine.csv', index=False)"
   ]
  },
  {
   "cell_type": "code",
   "execution_count": 6,
   "metadata": {
    "ExecuteTime": {
     "end_time": "2019-05-17T06:38:45.354156Z",
     "start_time": "2019-05-17T06:38:45.300654Z"
    },
    "scrolled": true
   },
   "outputs": [
    {
     "name": "stderr",
     "output_type": "stream",
     "text": [
      "/anaconda3/lib/python3.7/site-packages/ipykernel_launcher.py:1: UserWarning: Boolean Series key will be reindexed to match DataFrame index.\n",
      "  \"\"\"Entry point for launching an IPython kernel.\n"
     ]
    }
   ],
   "source": [
    "Y_kiev = Y_UA[Y_UA.lat>50.31][Y_UA.lat<50.57][Y_UA.lon>30.24][Y_UA.lon<30.81]"
   ]
  },
  {
   "cell_type": "code",
   "execution_count": 13,
   "metadata": {
    "ExecuteTime": {
     "end_time": "2019-05-17T06:50:39.230548Z",
     "start_time": "2019-05-17T06:50:39.102827Z"
    }
   },
   "outputs": [],
   "source": [
    "Y_kiev.to_csv('venues_in_Kyiv.csv', index=False)"
   ]
  },
  {
   "cell_type": "code",
   "execution_count": 1,
   "metadata": {
    "ExecuteTime": {
     "end_time": "2019-05-17T09:00:57.488880Z",
     "start_time": "2019-05-17T09:00:56.990506Z"
    }
   },
   "outputs": [],
   "source": [
    "import pandas as pd\n",
    "Y_kiev = pd.read_csv('venues_in_Kyiv.csv')"
   ]
  },
  {
   "cell_type": "markdown",
   "metadata": {},
   "source": [
    "## Observing global check ins data"
   ]
  },
  {
   "cell_type": "code",
   "execution_count": 7,
   "metadata": {
    "ExecuteTime": {
     "end_time": "2019-05-17T06:43:23.366599Z",
     "start_time": "2019-05-17T06:43:23.348505Z"
    }
   },
   "outputs": [],
   "source": [
    "a = Y_kiev.ven.unique()"
   ]
  },
  {
   "cell_type": "code",
   "execution_count": 8,
   "metadata": {
    "ExecuteTime": {
     "end_time": "2019-05-17T06:45:09.647817Z",
     "start_time": "2019-05-17T06:43:26.961348Z"
    }
   },
   "outputs": [],
   "source": [
    "X_kiev = X[X.ven.isin(a)]"
   ]
  },
  {
   "cell_type": "code",
   "execution_count": 9,
   "metadata": {
    "ExecuteTime": {
     "end_time": "2019-05-17T06:45:09.699524Z",
     "start_time": "2019-05-17T06:45:09.672529Z"
    }
   },
   "outputs": [
    {
     "data": {
      "text/plain": [
       "217805"
      ]
     },
     "execution_count": 9,
     "metadata": {},
     "output_type": "execute_result"
    }
   ],
   "source": [
    "len(X_kiev)"
   ]
  },
  {
   "cell_type": "markdown",
   "metadata": {
    "ExecuteTime": {
     "end_time": "2019-04-30T12:59:32.399744Z",
     "start_time": "2019-04-30T12:59:32.390318Z"
    }
   },
   "source": [
    "## Observing OSMNx and Easyway API"
   ]
  },
  {
   "cell_type": "code",
   "execution_count": 2,
   "metadata": {
    "ExecuteTime": {
     "end_time": "2019-05-17T09:01:11.724381Z",
     "start_time": "2019-05-17T09:01:06.182223Z"
    },
    "scrolled": false
   },
   "outputs": [
    {
     "name": "stderr",
     "output_type": "stream",
     "text": [
      "/anaconda3/lib/python3.7/site-packages/IPython/core/display.py:689: UserWarning:\n",
      "\n",
      "Consider using IPython.display.IFrame instead\n",
      "\n"
     ]
    },
    {
     "data": {
      "text/html": [
       "<iframe id=\"igraph\" scrolling=\"no\" style=\"border:none;\" seamless=\"seamless\" src=\"https://plot.ly/~MykolaTrokhymovych/41.embed\" height=\"525px\" width=\"100%\"></iframe>"
      ],
      "text/plain": [
       "<plotly.tools.PlotlyDisplay object>"
      ]
     },
     "execution_count": 2,
     "metadata": {},
     "output_type": "execute_result"
    }
   ],
   "source": [
    "import plotly.plotly as py\n",
    "import plotly.graph_objs as go\n",
    "import requests\n",
    "\n",
    "latt = 50.439546\n",
    "lng = 30.517015\n",
    "\n",
    "r = requests.get('https://api.easyway.info/?login=trokhymovych.mykola&password=mw6GWvwhc29Kwmz&city=kyiv&function=stops.GetStopsNearPointWithRoutes&lat='+str(latt)+'&lng='+str(lng)+'&r=300')\n",
    "data = r.json()\n",
    "\n",
    "lat = []\n",
    "lon = []\n",
    "for i in data['stop']:\n",
    "    lat.append(i['lat'])\n",
    "    lon.append(i['lng'])\n",
    "\n",
    "mapbox_access_token = \"pk.eyJ1IjoidmFsZW50eW4xOTk3IiwiYSI6ImNqNHlubm03cjFpc3EzM21nbW1rdGhvNmwifQ.xuQ0fbWNXjOi3y03MYbqAQ\"\n",
    "\n",
    "data = [\n",
    "    go.Scattermapbox(\n",
    "        lat=lat,\n",
    "        lon=lon,\n",
    "        mode='markers',\n",
    "        name = 'Public transport stops',\n",
    "        marker=go.scattermapbox.Marker(\n",
    "            size=9\n",
    "        ),\n",
    "    ),\n",
    "    go.Scattermapbox(\n",
    "        lat=[latt],\n",
    "        lon=[lng],\n",
    "        mode='markers',\n",
    "        name = 'Cafe',\n",
    "        marker=go.scattermapbox.Marker(\n",
    "            size=13\n",
    "        ),\n",
    "    )\n",
    "]\n",
    "\n",
    "layout = go.Layout(\n",
    "    autosize=True,\n",
    "    hovermode='closest',\n",
    "    mapbox=go.layout.Mapbox(\n",
    "        accesstoken=mapbox_access_token,\n",
    "        bearing=0,\n",
    "        center=go.layout.mapbox.Center(\n",
    "            lat=latt,\n",
    "            lon=lng\n",
    "        ),\n",
    "        pitch=0,\n",
    "        zoom=14.5\n",
    "    ),\n",
    ")\n",
    "\n",
    "fig = go.Figure(data=data, layout=layout)\n",
    "py.iplot(fig, filename='Multiple Mapbox')"
   ]
  },
  {
   "cell_type": "code",
   "execution_count": 19,
   "metadata": {
    "ExecuteTime": {
     "end_time": "2019-05-17T06:53:38.066922Z",
     "start_time": "2019-05-17T06:53:33.790459Z"
    },
    "scrolled": true
   },
   "outputs": [
    {
     "data": {
      "image/png": "[encoded data removed]",
      "text/plain": [
       "<Figure size 684.129x432 with 1 Axes>"
      ]
     },
     "metadata": {},
     "output_type": "display_data"
    }
   ],
   "source": [
    "import osmnx as ox\n",
    "%matplotlib inline\n",
    "ox.config(log_console=True, use_cache=True)\n",
    "ox.__version__\n",
    "# create a network around some (lat, lon) point and plot it\n",
    "location_point = (latt, lng)\n",
    "G = ox.graph_from_point(location_point, distance=500, simplify=True, network_type='walk')\n",
    "fig, ax = ox.plot_graph(G, node_color='b', node_zorder=1)"
   ]
  },
  {
   "cell_type": "markdown",
   "metadata": {},
   "source": [
    "# Extracting transitions data from check ins data"
   ]
  },
  {
   "cell_type": "code",
   "execution_count": null,
   "metadata": {
    "ExecuteTime": {
     "end_time": "2019-05-01T09:56:38.223821Z",
     "start_time": "2019-05-01T09:56:38.056951Z"
    }
   },
   "outputs": [],
   "source": [
    "X_kiev.time = pd.to_datetime(X_kiev.time)"
   ]
  },
  {
   "cell_type": "code",
   "execution_count": null,
   "metadata": {
    "ExecuteTime": {
     "end_time": "2019-05-01T10:58:53.271067Z",
     "start_time": "2019-05-01T10:00:07.137572Z"
    },
    "scrolled": true
   },
   "outputs": [],
   "source": [
    "# from tqdm import tqdm_notebook as tqdm\n",
    "\n",
    "# data3 = X_kiev\n",
    "\n",
    "# users = data3.user.unique()\n",
    "# transitions = pd.DataFrame(columns = ['A_id', 'B_id', 'A_datetime', 'B_datetime'])\n",
    "# for i in tqdm(range(len(users))):\n",
    "#     user_1 = data3[data3.user==users[i]]\n",
    "#     user_1 = user_1.drop_duplicates(keep='first')\n",
    "#     for i in range(len(user_1.time)-1):\n",
    "#         if list(user_1.time)[i+1] - list(user_1.time)[i]<pd.Timedelta('3 hours'):\n",
    "#             t = pd.DataFrame({'A_id':list(user_1[user_1.time==list(user_1.time)[i]].ven)[:1],\n",
    "#                               'B_id':list(user_1[user_1.time==list(user_1.time)[i+1]].ven)[:1],\n",
    "#                               'A_datetime':list(user_1.time)[i],\n",
    "#                               'B_datetime':list(user_1.time)[i+1]})\n",
    "#             transitions = pd.concat([transitions,t], axis=0)\n",
    "# transitions     "
   ]
  },
  {
   "cell_type": "code",
   "execution_count": null,
   "metadata": {
    "ExecuteTime": {
     "end_time": "2019-05-01T11:00:33.206285Z",
     "start_time": "2019-05-01T11:00:32.625990Z"
    }
   },
   "outputs": [],
   "source": [
    "# transitions.to_csv('transitions_all.csv', index= False)"
   ]
  },
  {
   "cell_type": "code",
   "execution_count": 25,
   "metadata": {
    "ExecuteTime": {
     "end_time": "2019-05-17T07:09:44.972399Z",
     "start_time": "2019-05-17T07:09:44.821702Z"
    }
   },
   "outputs": [],
   "source": [
    "transitions = pd.read_csv('transitions_all.csv')"
   ]
  },
  {
   "cell_type": "code",
   "execution_count": 28,
   "metadata": {
    "ExecuteTime": {
     "end_time": "2019-05-17T07:11:57.569185Z",
     "start_time": "2019-05-17T07:11:57.469507Z"
    }
   },
   "outputs": [],
   "source": [
    "transitions = transitions.merge(Y_kiev, left_on='A_id', right_on='ven').merge(Y_kiev, left_on='B_id', right_on='ven')[['A_id', 'B_id', 'A_datetime', 'B_datetime', 'lat_x', 'lon_x', 'lat_y', 'lon_y']]"
   ]
  },
  {
   "cell_type": "code",
   "execution_count": 30,
   "metadata": {
    "ExecuteTime": {
     "end_time": "2019-05-17T07:12:30.279051Z",
     "start_time": "2019-05-17T07:12:29.793640Z"
    }
   },
   "outputs": [],
   "source": [
    "transitions.to_csv('transitions_all_Kyiv.csv', index= False)"
   ]
  },
  {
   "cell_type": "code",
   "execution_count": 36,
   "metadata": {
    "ExecuteTime": {
     "end_time": "2019-05-17T08:19:42.433943Z",
     "start_time": "2019-05-17T08:19:42.325657Z"
    }
   },
   "outputs": [],
   "source": [
    "Y_kiev.head()\n",
    "coffee_id = list(Y_kiev[Y_kiev.cat=='Coffee Shop'].ven.unique())"
   ]
  },
  {
   "cell_type": "code",
   "execution_count": 39,
   "metadata": {
    "ExecuteTime": {
     "end_time": "2019-05-17T08:35:42.916468Z",
     "start_time": "2019-05-17T08:20:12.267126Z"
    }
   },
   "outputs": [
    {
     "name": "stderr",
     "output_type": "stream",
     "text": [
      "65425it [15:30, 70.35it/s]\n"
     ]
    }
   ],
   "source": [
    "from geopy import distance\n",
    "A = list(transitions.A_id)\n",
    "B = list(transitions.B_id)\n",
    "dist = []\n",
    "for a,b in tqdm(zip(A,B)):\n",
    "    coord_a = (list(Y_kiev[Y_kiev.ven==a].lon)[0], list(Y_kiev[Y_kiev.ven==a].lat)[0])\n",
    "    coord_b = (list(Y_kiev[Y_kiev.ven==b].lon)[0], list(Y_kiev[Y_kiev.ven==b].lat)[0])\n",
    "    dist.append(distance.distance(coord_a,coord_b).m)\n",
    "transitions['distance'] = dist"
   ]
  },
  {
   "cell_type": "code",
   "execution_count": 3,
   "metadata": {
    "ExecuteTime": {
     "end_time": "2019-05-17T09:01:40.105330Z",
     "start_time": "2019-05-17T09:01:39.890966Z"
    }
   },
   "outputs": [],
   "source": [
    "# transitions.to_csv('transitions_all_Kyiv.csv', index= False)\n",
    "transitions = pd.read_csv('transitions_all_Kyiv.csv')"
   ]
  },
  {
   "cell_type": "code",
   "execution_count": 4,
   "metadata": {
    "ExecuteTime": {
     "end_time": "2019-05-17T09:01:41.937757Z",
     "start_time": "2019-05-17T09:01:41.909738Z"
    }
   },
   "outputs": [],
   "source": [
    "coffee_id = list(Y_kiev[Y_kiev.cat=='Coffee Shop'].ven.unique())\n",
    "bank_id = list(Y_kiev[Y_kiev.cat=='Bank'].ven.unique())\n",
    "rest_id = list(Y_kiev[Y_kiev.cat=='Restaurant'].ven.unique())\n",
    "grocery_id = list(Y_kiev[Y_kiev.cat=='Grocery Store'].ven.unique())"
   ]
  },
  {
   "cell_type": "code",
   "execution_count": 57,
   "metadata": {
    "ExecuteTime": {
     "end_time": "2019-05-17T08:42:45.332440Z",
     "start_time": "2019-05-17T08:42:45.324035Z"
    }
   },
   "outputs": [],
   "source": [
    "import numpy as np\n",
    "dist = list(transitions[transitions.B_id.isin(grocery_id)]['distance'])\n",
    "# dist = list(transitions['distance'])\n",
    "dist = [i for i in dist if i > 0]\n",
    "dist = np.sort(dist)"
   ]
  },
  {
   "cell_type": "code",
   "execution_count": 58,
   "metadata": {
    "ExecuteTime": {
     "end_time": "2019-05-17T08:42:46.604527Z",
     "start_time": "2019-05-17T08:42:46.406730Z"
    }
   },
   "outputs": [
    {
     "data": {
      "image/png": "[encoded data removed]",
      "text/plain": [
       "<Figure size 864x576 with 1 Axes>"
      ]
     },
     "metadata": {
      "needs_background": "light"
     },
     "output_type": "display_data"
    }
   ],
   "source": [
    "import numpy as np\n",
    "import statsmodels.api as sm # recommended import according to the docs\n",
    "import matplotlib.pyplot as plt\n",
    "\n",
    "sample = dist\n",
    "ecdf = sm.distributions.ECDF(sample)\n",
    "\n",
    "fig = plt.figure(figsize=(12,8))\n",
    "ax = fig.gca()\n",
    "ax.set_xticks(np.arange(0, 10000, 500))\n",
    "ax.set_yticks(np.arange(0, 1., 0.1))\n",
    "\n",
    "x = np.linspace(min(sample), 10000,num=1000)\n",
    "y = ecdf(x)\n",
    "plt.step(x, y, label='ECDF')\n",
    "plt.plot(x,np.ones(len(x))*0.5,linestyle='--',color='r', label='50th percentile (Q2)')\n",
    "# plt.plot(x,np.ones(len(x))*0.8,linestyle='--',color='r',)\n",
    "plt.title('Емпірична функція розподілу відстаней')\n",
    "plt.xlim(0, 6000)\n",
    "plt.ylim(0, 1)\n",
    "plt.legend()\n",
    "plt.xlabel(\"distance\")\n",
    "plt.ylabel(\"ECDF\");\n",
    "plt.grid()\n",
    "plt.show()"
   ]
  },
  {
   "cell_type": "markdown",
   "metadata": {},
   "source": [
    "# Building features for future regression analysis\n",
    "1) щільність\n",
    "2) ентропія розташування, \n",
    "3) конкурентоспроможність, \n",
    "4) популярність, \n",
    "5) щільність переміщень, \n",
    "6) величина вхідного потоку, \n",
    "7) кількість зупинок, \n",
    "8) наявність поблизу важливих транспортних вузлів, \n",
    "9) кількість маршрутів, \n",
    "10) ентропія транспорту, \n",
    "11) щільність вулиць, \n",
    "12) щільність перехресть, \n",
    "13) середня заокругленість вулиць, \n",
    "14) центральність цільової точки, \n",
    "15) густину забудованості"
   ]
  },
  {
   "cell_type": "code",
   "execution_count": 12,
   "metadata": {
    "ExecuteTime": {
     "end_time": "2019-05-17T09:05:47.685069Z",
     "start_time": "2019-05-17T09:05:47.674705Z"
    }
   },
   "outputs": [],
   "source": [
    "from math import pi\n",
    "import networkx as nx\n",
    "import osmnx as ox\n",
    "import requests\n",
    "import matplotlib.cm as cm\n",
    "import matplotlib.colors as colors\n",
    "import matplotlib.pyplot as plt\n",
    "ox.config(use_cache=True, log_console=True)\n",
    "\n",
    "def get_OSMnx(x,y,rad):\n",
    "    \n",
    "    p = (x,y)\n",
    "    \n",
    "    G = ox.graph_from_point(p, distance=rad, network_type='walk')\n",
    "    G_proj = ox.project_graph(G)\n",
    "    nodes_proj = ox.graph_to_gdfs(G_proj, edges=False)\n",
    "    are = nodes_proj.unary_union.convex_hull.area\n",
    "\n",
    "    try:\n",
    "        gdf = ox.buildings_from_point(p, distance = rad)\n",
    "        gdf_proj = ox.project_gdf(gdf)\n",
    "        areas = gdf_proj.area\n",
    "        building_density = sum(areas)/are\n",
    "    except:\n",
    "        building_density = np.nan\n",
    "        \n",
    "    \n",
    "    # graph analysis\n",
    "    stats = ox.basic_stats(G, area=500*500)\n",
    "    temp = ox.extended_stats(G, ecc=True, bc=True, cc=True)\n",
    "    for key, value in stats.items():\n",
    "        temp[key] = value\n",
    "    \n",
    "    street_density = temp['street_density_km']#Total street length divided by area in square kilometers\n",
    "    node_density = temp['intersection_density_km']#n divided by area in square kilometers\n",
    "    circuity_avg = temp['circuity_avg'] #Total edge length divided by sum of great circle distances between the nodes incident to each edge Proportion of edges that have a single incident node (i.e., the edge links nodes u and v, and u = v)\n",
    "    \n",
    "#     # point analysys\n",
    "    origin_node = ox.get_nearest_node(G, p)\n",
    "    b_c = temp['betweenness_centrality'][origin_node]   #For each node, the fraction of all shortest paths that pass through the node\n",
    "    \n",
    "    return building_density, street_density, node_density, circuity_avg, b_c"
   ]
  },
  {
   "cell_type": "code",
   "execution_count": 13,
   "metadata": {
    "ExecuteTime": {
     "end_time": "2019-05-17T09:05:50.494785Z",
     "start_time": "2019-05-17T09:05:50.299200Z"
    },
    "scrolled": true
   },
   "outputs": [],
   "source": [
    "from geopy.distance import vincenty\n",
    "from geopy import distance\n",
    "import requests\n",
    "\n",
    "from math import log2\n",
    "import warnings\n",
    "warnings.filterwarnings(\"ignore\")\n",
    "from tqdm import tqdm_notebook as tqdm\n",
    "\n",
    "# Important transport nodes\n",
    "r = requests.get('https://api.easyway.info/?login=trokhymovych.mykola&password=mw6GWvwhc29Kwmz&city=kyiv&function=cities.GetPlacesList')\n",
    "important = r.json()['place']\n",
    "\n",
    "transitions = transitions[transitions.distance>0]\n",
    "\n",
    "my_cat = 'Restaurant' ##############################################\n",
    "\n",
    "def get_transport_data(lat,lng):\n",
    "    \n",
    "    r = requests.get('https://api.easyway.info/?login=trokhymovych.mykola&password=mw6GWvwhc29Kwmz&city=kyiv&function=stops.GetStopsNearPointWithRoutes&lat='+str(lat)+'&lng='+str(lng)+'&r=200')\n",
    "    data = r.json()\n",
    "    \n",
    "    # Number of stops\n",
    "    number_of_stops = len(data['stop'])\n",
    "    \n",
    "    # preparation \n",
    "    temp = {}\n",
    "    for t in ['bus','train','trol','tram','metro','boat']:\n",
    "        temp[t] = set()\n",
    "    for stop in data['stop']:\n",
    "        for route in stop['routes']['route']: \n",
    "            type_ = route['@attributes']['type']\n",
    "            number_ = route['title']\n",
    "            temp[type_].add(number_)\n",
    "    \n",
    "    # Number of routes\n",
    "    number_of_routes = 0\n",
    "    for r in temp.keys():\n",
    "        number_of_routes+=len(temp[r]) \n",
    "\n",
    "    #Transport Entropy\n",
    "    entropy = 0\n",
    "    for r in temp.keys():\n",
    "        if len(temp[r])!=0:\n",
    "            entropy+=(len(temp[r])/number_of_routes)*np.log2(len(temp[r])/number_of_routes)\n",
    "    entropy = -entropy\n",
    "\n",
    "    #Number of important transport nods\n",
    "    important_nods = 0\n",
    "    for el in important:\n",
    "        p1 = (el['lat'], el['lng'])\n",
    "        p2 = (lat,lng)\n",
    "        if (vincenty(p1, p2).meters < 400):\n",
    "            important_nods+=1 \n",
    "    return number_of_stops, important_nods, number_of_routes, entropy \n",
    "\n",
    "\n",
    "# getting places around\n",
    "def get_places_around(data, lat,lon):\n",
    "    # circle area\n",
    "    radius = 200\n",
    "    center_coordinates = (lat,lon)\n",
    "    places_ids = []\n",
    "    for l,ll in zip(data.lat,data.lon):\n",
    "        dist = distance.distance(center_coordinates, (l, ll)).m\n",
    "        if dist <= 200:\n",
    "            places_ids.append(list(data[data.lon==ll][data.lat==l].ven)[0])\n",
    "    return data[data.ven.isin(places_ids)]"
   ]
  },
  {
   "cell_type": "code",
   "execution_count": 16,
   "metadata": {
    "ExecuteTime": {
     "end_time": "2019-05-17T11:21:16.784939Z",
     "start_time": "2019-05-17T10:45:58.546826Z"
    }
   },
   "outputs": [
    {
     "data": {
      "application/vnd.jupyter.widget-view+json": {
       "model_id": "b75ea11608f64d4291bb4c51a2167b4e",
       "version_major": 2,
       "version_minor": 0
      },
      "text/plain": [
       "HBox(children=(IntProgress(value=1, bar_style='info', max=1), HTML(value='')))"
      ]
     },
     "metadata": {},
     "output_type": "display_data"
    }
   ],
   "source": [
    "# mining_banks\n",
    "from tqdm import tqdm_notebook as tqdm\n",
    "import numpy as np\n",
    "\n",
    "X_kiev = pd.read_csv('X_kiev.csv')\n",
    "\n",
    "\n",
    "feature_names = ['density', 'place_entropy', 'competivness', 'popularity', \n",
    "                 'transitions_density','incoming_flow', 'number_of_stops', 'important_nods', \n",
    "                 'number_of_routes', 'transport_entropy', 'building_density', \n",
    "                 'street_density', 'node_density', 'circuity_avg', 'betweenness centrality']\n",
    "density1 = []\n",
    "place_entropy1 = []\n",
    "competivness1 = []\n",
    "popularity1 = []\n",
    "t_density1 = []\n",
    "incoming_flow1 = []\n",
    "number_of_stops1 = []\n",
    "important_nods1 = []\n",
    "number_of_routes1 = []\n",
    "transport_entropy1 = []\n",
    "building_density1 = []\n",
    "street_density1 = []\n",
    "node_density1 = []\n",
    "circuity_avg1 = []\n",
    "b_c1 = []\n",
    "\n",
    "for index, venue in tqdm(Y_kiev[Y_kiev.ven.isin(rest_id)].iterrows()): ###########################\n",
    "    \n",
    "    # getting dataframe of neibours\n",
    "    temp = get_places_around(Y_kiev, venue['lat'], venue['lon'])\n",
    "\n",
    "    # 1) density\n",
    "    density = len(temp)\n",
    "    density1.append(density)\n",
    "\n",
    "    # 2) place entropy\n",
    "    temp_cat = set(temp.cat)\n",
    "    p_entropy = 0\n",
    "    for c in temp_cat:\n",
    "        dd = temp[temp.cat==c]\n",
    "        p_entropy -= (len(dd) / density * log2(len(dd) / density))\n",
    "    place_entropy1.append(p_entropy) \n",
    "\n",
    "    # 3) Competivness\n",
    "    competivness = -len(temp[temp.cat==my_cat])/density\n",
    "    competivness1.append(competivness)\n",
    "\n",
    "    # 4) Popularity\n",
    "    aa = X_kiev[X_kiev.ven.isin(temp.ven)]\n",
    "    popularity = len(aa)\n",
    "    popularity1.append(popularity)\n",
    "\n",
    "    # 5) Transition Density\n",
    "    f1 = transitions[transitions.A_id.isin(temp.ven)]\n",
    "    f1 = f1[f1.B_id.isin(temp.ven)]\n",
    "    t_density = len(f1)\n",
    "    t_density1.append(t_density)\n",
    "\n",
    "    # 6) Incoming Flow\n",
    "    f1 = transitions[~transitions.A_id.isin(temp.ven)]\n",
    "    f1 = f1[f1.B_id.isin(temp.ven)]\n",
    "    incoming_flow = len(f1)\n",
    "    incoming_flow1.append(incoming_flow)\n",
    "\n",
    "    # 7,8,9,10\n",
    "    number_of_stops, important_nods, number_of_routes, entropy = get_transport_data(venue['lat'], venue['lon'])\n",
    "    number_of_stops1.append(number_of_stops)\n",
    "    important_nods1.append(important_nods)\n",
    "    number_of_routes1.append(number_of_routes)\n",
    "    transport_entropy1.append(entropy)\n",
    "\n",
    "    #11,12,13,14,15\n",
    "    try:\n",
    "        building_density, street_density, node_density, circuity_avg, b_c = get_OSMnx(venue['lat'], venue['lon'], 200)\n",
    "        building_density1.append(building_density)\n",
    "        street_density1.append(street_density)\n",
    "        node_density1.append(node_density) \n",
    "        circuity_avg1.append(circuity_avg)\n",
    "        b_c1.append(b_c)\n",
    "    except:\n",
    "        building_density1.append(np.nan)\n",
    "        street_density1.append(np.nan)\n",
    "        node_density1.append(np.nan) \n",
    "        circuity_avg1.append(np.nan)\n",
    "        b_c1.append(np.nan)"
   ]
  },
  {
   "cell_type": "code",
   "execution_count": 17,
   "metadata": {
    "ExecuteTime": {
     "end_time": "2019-05-17T18:25:44.918991Z",
     "start_time": "2019-05-17T18:25:44.736114Z"
    }
   },
   "outputs": [],
   "source": [
    "data = pd.DataFrame({'density':density1, \n",
    "                     'place_entropy':place_entropy1,\n",
    "                     'competivness':competivness1,\n",
    "                     'popularity':popularity1,\n",
    "                     'transitions_density':t_density1,\n",
    "                     'incoming_flow':incoming_flow1,\n",
    "                     'number_of_stops':number_of_stops1,\n",
    "                     'important_nods':important_nods1,\n",
    "                     'number_of_routes':number_of_routes1,\n",
    "                     'transport_entropy':transport_entropy1,\n",
    "                     'building_density':building_density1, \n",
    "                     'street_density':street_density1,\n",
    "                     'node_density':node_density1,\n",
    "                     'circuity_avg':circuity_avg1, \n",
    "                     'betweenness centrality':b_c1})"
   ]
  },
  {
   "cell_type": "code",
   "execution_count": 18,
   "metadata": {
    "ExecuteTime": {
     "end_time": "2019-05-17T18:25:45.565303Z",
     "start_time": "2019-05-17T18:25:45.251898Z"
    }
   },
   "outputs": [
    {
     "data": {
      "text/html": [
       "<div>\n",
       "<style scoped>\n",
       "    .dataframe tbody tr th:only-of-type {\n",
       "        vertical-align: middle;\n",
       "    }\n",
       "\n",
       "    .dataframe tbody tr th {\n",
       "        vertical-align: top;\n",
       "    }\n",
       "\n",
       "    .dataframe thead th {\n",
       "        text-align: right;\n",
       "    }\n",
       "</style>\n",
       "<table border=\"1\" class=\"dataframe\">\n",
       "  <thead>\n",
       "    <tr style=\"text-align: right;\">\n",
       "      <th></th>\n",
       "      <th>density</th>\n",
       "      <th>place_entropy</th>\n",
       "      <th>competivness</th>\n",
       "      <th>popularity</th>\n",
       "      <th>transitions_density</th>\n",
       "      <th>incoming_flow</th>\n",
       "      <th>number_of_stops</th>\n",
       "      <th>important_nods</th>\n",
       "      <th>number_of_routes</th>\n",
       "      <th>transport_entropy</th>\n",
       "      <th>building_density</th>\n",
       "      <th>street_density</th>\n",
       "      <th>node_density</th>\n",
       "      <th>circuity_avg</th>\n",
       "      <th>betweenness centrality</th>\n",
       "    </tr>\n",
       "  </thead>\n",
       "  <tbody>\n",
       "    <tr>\n",
       "      <th>count</th>\n",
       "      <td>250.000000</td>\n",
       "      <td>250.000000</td>\n",
       "      <td>250.000000</td>\n",
       "      <td>250.000000</td>\n",
       "      <td>250.000000</td>\n",
       "      <td>250.000000</td>\n",
       "      <td>250.000000</td>\n",
       "      <td>250.000000</td>\n",
       "      <td>250.000000</td>\n",
       "      <td>250.000000</td>\n",
       "      <td>0.0</td>\n",
       "      <td>249.000000</td>\n",
       "      <td>249.000000</td>\n",
       "      <td>249.000000</td>\n",
       "      <td>249.000000</td>\n",
       "    </tr>\n",
       "    <tr>\n",
       "      <th>mean</th>\n",
       "      <td>40.812000</td>\n",
       "      <td>3.819199</td>\n",
       "      <td>-0.145659</td>\n",
       "      <td>577.792000</td>\n",
       "      <td>45.036000</td>\n",
       "      <td>128.776000</td>\n",
       "      <td>2.920000</td>\n",
       "      <td>0.020000</td>\n",
       "      <td>8.548000</td>\n",
       "      <td>0.485967</td>\n",
       "      <td>NaN</td>\n",
       "      <td>15760.454153</td>\n",
       "      <td>273.365462</td>\n",
       "      <td>1.066753</td>\n",
       "      <td>0.153983</td>\n",
       "    </tr>\n",
       "    <tr>\n",
       "      <th>std</th>\n",
       "      <td>44.614645</td>\n",
       "      <td>1.576234</td>\n",
       "      <td>0.221350</td>\n",
       "      <td>973.219266</td>\n",
       "      <td>93.755314</td>\n",
       "      <td>214.646337</td>\n",
       "      <td>2.579188</td>\n",
       "      <td>0.140281</td>\n",
       "      <td>8.273906</td>\n",
       "      <td>0.497959</td>\n",
       "      <td>NaN</td>\n",
       "      <td>6934.532730</td>\n",
       "      <td>150.061059</td>\n",
       "      <td>0.057877</td>\n",
       "      <td>0.164537</td>\n",
       "    </tr>\n",
       "    <tr>\n",
       "      <th>min</th>\n",
       "      <td>1.000000</td>\n",
       "      <td>0.000000</td>\n",
       "      <td>-1.000000</td>\n",
       "      <td>1.000000</td>\n",
       "      <td>0.000000</td>\n",
       "      <td>0.000000</td>\n",
       "      <td>0.000000</td>\n",
       "      <td>0.000000</td>\n",
       "      <td>0.000000</td>\n",
       "      <td>-0.000000</td>\n",
       "      <td>NaN</td>\n",
       "      <td>289.616000</td>\n",
       "      <td>8.000000</td>\n",
       "      <td>0.999996</td>\n",
       "      <td>0.000000</td>\n",
       "    </tr>\n",
       "    <tr>\n",
       "      <th>25%</th>\n",
       "      <td>8.000000</td>\n",
       "      <td>2.807355</td>\n",
       "      <td>-0.160714</td>\n",
       "      <td>36.250000</td>\n",
       "      <td>1.000000</td>\n",
       "      <td>7.000000</td>\n",
       "      <td>1.000000</td>\n",
       "      <td>0.000000</td>\n",
       "      <td>1.000000</td>\n",
       "      <td>0.000000</td>\n",
       "      <td>NaN</td>\n",
       "      <td>10269.396000</td>\n",
       "      <td>148.000000</td>\n",
       "      <td>1.031632</td>\n",
       "      <td>0.023512</td>\n",
       "    </tr>\n",
       "    <tr>\n",
       "      <th>50%</th>\n",
       "      <td>24.500000</td>\n",
       "      <td>4.132944</td>\n",
       "      <td>-0.052632</td>\n",
       "      <td>187.000000</td>\n",
       "      <td>7.000000</td>\n",
       "      <td>42.500000</td>\n",
       "      <td>2.000000</td>\n",
       "      <td>0.000000</td>\n",
       "      <td>6.000000</td>\n",
       "      <td>0.522559</td>\n",
       "      <td>NaN</td>\n",
       "      <td>16542.136000</td>\n",
       "      <td>280.000000</td>\n",
       "      <td>1.052997</td>\n",
       "      <td>0.112646</td>\n",
       "    </tr>\n",
       "    <tr>\n",
       "      <th>75%</th>\n",
       "      <td>57.750000</td>\n",
       "      <td>5.089302</td>\n",
       "      <td>-0.032390</td>\n",
       "      <td>679.750000</td>\n",
       "      <td>47.750000</td>\n",
       "      <td>152.500000</td>\n",
       "      <td>4.000000</td>\n",
       "      <td>0.000000</td>\n",
       "      <td>14.000000</td>\n",
       "      <td>0.949452</td>\n",
       "      <td>NaN</td>\n",
       "      <td>20929.760000</td>\n",
       "      <td>372.000000</td>\n",
       "      <td>1.083692</td>\n",
       "      <td>0.226810</td>\n",
       "    </tr>\n",
       "    <tr>\n",
       "      <th>max</th>\n",
       "      <td>218.000000</td>\n",
       "      <td>6.248055</td>\n",
       "      <td>-0.006098</td>\n",
       "      <td>5467.000000</td>\n",
       "      <td>565.000000</td>\n",
       "      <td>1276.000000</td>\n",
       "      <td>18.000000</td>\n",
       "      <td>1.000000</td>\n",
       "      <td>43.000000</td>\n",
       "      <td>1.685475</td>\n",
       "      <td>NaN</td>\n",
       "      <td>31313.376000</td>\n",
       "      <td>676.000000</td>\n",
       "      <td>1.564280</td>\n",
       "      <td>1.000000</td>\n",
       "    </tr>\n",
       "  </tbody>\n",
       "</table>\n",
       "</div>"
      ],
      "text/plain": [
       "          density  place_entropy  competivness   popularity  \\\n",
       "count  250.000000     250.000000    250.000000   250.000000   \n",
       "mean    40.812000       3.819199     -0.145659   577.792000   \n",
       "std     44.614645       1.576234      0.221350   973.219266   \n",
       "min      1.000000       0.000000     -1.000000     1.000000   \n",
       "25%      8.000000       2.807355     -0.160714    36.250000   \n",
       "50%     24.500000       4.132944     -0.052632   187.000000   \n",
       "75%     57.750000       5.089302     -0.032390   679.750000   \n",
       "max    218.000000       6.248055     -0.006098  5467.000000   \n",
       "\n",
       "       transitions_density  incoming_flow  number_of_stops  important_nods  \\\n",
       "count           250.000000     250.000000       250.000000      250.000000   \n",
       "mean             45.036000     128.776000         2.920000        0.020000   \n",
       "std              93.755314     214.646337         2.579188        0.140281   \n",
       "min               0.000000       0.000000         0.000000        0.000000   \n",
       "25%               1.000000       7.000000         1.000000        0.000000   \n",
       "50%               7.000000      42.500000         2.000000        0.000000   \n",
       "75%              47.750000     152.500000         4.000000        0.000000   \n",
       "max             565.000000    1276.000000        18.000000        1.000000   \n",
       "\n",
       "       number_of_routes  transport_entropy  building_density  street_density  \\\n",
       "count        250.000000         250.000000               0.0      249.000000   \n",
       "mean           8.548000           0.485967               NaN    15760.454153   \n",
       "std            8.273906           0.497959               NaN     6934.532730   \n",
       "min            0.000000          -0.000000               NaN      289.616000   \n",
       "25%            1.000000           0.000000               NaN    10269.396000   \n",
       "50%            6.000000           0.522559               NaN    16542.136000   \n",
       "75%           14.000000           0.949452               NaN    20929.760000   \n",
       "max           43.000000           1.685475               NaN    31313.376000   \n",
       "\n",
       "       node_density  circuity_avg  betweenness centrality  \n",
       "count    249.000000    249.000000              249.000000  \n",
       "mean     273.365462      1.066753                0.153983  \n",
       "std      150.061059      0.057877                0.164537  \n",
       "min        8.000000      0.999996                0.000000  \n",
       "25%      148.000000      1.031632                0.023512  \n",
       "50%      280.000000      1.052997                0.112646  \n",
       "75%      372.000000      1.083692                0.226810  \n",
       "max      676.000000      1.564280                1.000000  "
      ]
     },
     "execution_count": 18,
     "metadata": {},
     "output_type": "execute_result"
    }
   ],
   "source": [
    "data.describe()"
   ]
  },
  {
   "cell_type": "code",
   "execution_count": 19,
   "metadata": {
    "ExecuteTime": {
     "end_time": "2019-05-17T18:25:46.079402Z",
     "start_time": "2019-05-17T18:25:45.847123Z"
    }
   },
   "outputs": [],
   "source": [
    "# adding venue id\n",
    "data['ven'] = list(Y_kiev[Y_kiev.ven.isin(rest_id)].ven)\n",
    "\n",
    "# adding venue checkins\n",
    "data['Y'] = list(X_kiev[X_kiev.ven.isin(rest_id)].groupby('ven').count().user)\n",
    "\n",
    "\n",
    "data = data.merge(Y_kiev, on='ven')\n",
    "data = data[list(data.columns)[:19]]\n",
    "\n",
    "data.to_csv('restorant_dataset.csv', index = False)"
   ]
  },
  {
   "cell_type": "markdown",
   "metadata": {},
   "source": [
    "# Preprocesing is fineshed!!!!"
   ]
  },
  {
   "cell_type": "code",
   "execution_count": null,
   "metadata": {},
   "outputs": [],
   "source": []
  },
  {
   "cell_type": "code",
   "execution_count": 1,
   "metadata": {
    "ExecuteTime": {
     "end_time": "2019-05-21T06:00:59.726199Z",
     "start_time": "2019-05-21T06:00:58.542823Z"
    }
   },
   "outputs": [],
   "source": [
    "import pandas as pd\n",
    "X_kiev = pd.read_csv('X_kiev.csv')"
   ]
  },
  {
   "cell_type": "code",
   "execution_count": 2,
   "metadata": {
    "ExecuteTime": {
     "end_time": "2019-05-21T06:00:59.738797Z",
     "start_time": "2019-05-21T06:00:59.728817Z"
    }
   },
   "outputs": [],
   "source": [
    "data = pd.read_csv('coffee_dataset.csv')\n",
    "feature_names = ['density', 'place_entropy', 'competivness', 'popularity', \n",
    "                 'transitions_density','incoming_flow', 'number_of_stops', 'important_nods', \n",
    "                 'number_of_routes', 'transport_entropy', #'building_density', \n",
    "                 'street_density', 'node_density', 'circuity_avg', 'betweenness centrality']"
   ]
  },
  {
   "cell_type": "markdown",
   "metadata": {},
   "source": [
    "# Starting to build the model"
   ]
  },
  {
   "cell_type": "code",
   "execution_count": 3,
   "metadata": {
    "ExecuteTime": {
     "end_time": "2019-05-21T06:01:00.555227Z",
     "start_time": "2019-05-21T06:01:00.391933Z"
    }
   },
   "outputs": [
    {
     "name": "stderr",
     "output_type": "stream",
     "text": [
      "/anaconda3/lib/python3.7/site-packages/ipykernel_launcher.py:3: UserWarning: Boolean Series key will be reindexed to match DataFrame index.\n",
      "  This is separate from the ipykernel package so we can avoid doing imports until\n"
     ]
    }
   ],
   "source": [
    "import pandas as pd\n",
    "Y_UA = pd.read_csv('venues_ua.csv')\n",
    "Y_kiev = Y_UA[Y_UA.lat>50.31][Y_UA.lat<50.57][Y_UA.lon>30.24][Y_UA.lon<30.81]"
   ]
  },
  {
   "cell_type": "code",
   "execution_count": 4,
   "metadata": {
    "ExecuteTime": {
     "end_time": "2019-05-21T06:01:01.094349Z",
     "start_time": "2019-05-21T06:01:01.084554Z"
    }
   },
   "outputs": [
    {
     "data": {
      "text/plain": [
       "24743"
      ]
     },
     "execution_count": 4,
     "metadata": {},
     "output_type": "execute_result"
    }
   ],
   "source": [
    "len(Y_kiev)"
   ]
  },
  {
   "cell_type": "code",
   "execution_count": 5,
   "metadata": {
    "ExecuteTime": {
     "end_time": "2019-05-21T06:01:01.499733Z",
     "start_time": "2019-05-21T06:01:01.479560Z"
    }
   },
   "outputs": [],
   "source": [
    "# data = pd.read_csv('dataset_mined.csv')\n",
    "# data = data[data.Y<155]\n",
    "\n",
    "feature_names = ['density', 'place_entropy', 'competivness', 'popularity', \n",
    "                 'transitions_density','incoming_flow', 'number_of_stops', 'important_nods', \n",
    "                 'number_of_routes', 'transport_entropy', #'building_density', \n",
    "                 'street_density', 'node_density', 'circuity_avg', 'betweenness centrality']\n",
    "\n",
    "X = data\n",
    "# X.drop('building_density', axis=1, inplace=True)\n",
    "# X = X.merge(Y_kiev, on='ven')\n",
    "# X.to_csv('train.csv', index=False)\n",
    "\n",
    "X.fillna(X.mean(), inplace=True)\n",
    "\n",
    "y = data.Y\n",
    "\n",
    "other = list(X.columns)\n",
    "for i in feature_names:\n",
    "    other.remove(i)"
   ]
  },
  {
   "cell_type": "code",
   "execution_count": 6,
   "metadata": {
    "ExecuteTime": {
     "end_time": "2019-05-21T06:01:03.435198Z",
     "start_time": "2019-05-21T06:01:02.238389Z"
    }
   },
   "outputs": [],
   "source": [
    "import numpy as np\n",
    "from sklearn.model_selection import train_test_split\n",
    "# restic # 42\n",
    "# bank #1\n",
    "\n",
    "\n",
    "X_train, X_test, y_train, y_test = train_test_split(X, y, test_size=0.1, random_state=2)\n",
    "X_train, X_val, y_train, y_val = train_test_split(X_train, y_train, test_size=1./9., random_state=2)\n",
    "\n",
    "X_train.merge(Y_kiev, on='ven').to_csv('train.csv', index=False)\n",
    "X_val.merge(Y_kiev, on='ven').to_csv('validation.csv', index=False)\n",
    "X_test.merge(Y_kiev, on='ven').to_csv('test.csv', index=False)"
   ]
  },
  {
   "cell_type": "code",
   "execution_count": 7,
   "metadata": {
    "ExecuteTime": {
     "end_time": "2019-05-21T06:01:03.446146Z",
     "start_time": "2019-05-21T06:01:03.438543Z"
    }
   },
   "outputs": [
    {
     "name": "stdout",
     "output_type": "stream",
     "text": [
      "Should be 200\n",
      "203\n",
      "Should be 25\n",
      "26\n",
      "Should be 25\n",
      "26\n"
     ]
    }
   ],
   "source": [
    "# Checking sizes:\n",
    "print('Should be 200')\n",
    "print(len(X_train))\n",
    "print('Should be 25')\n",
    "print(len(X_val))\n",
    "print('Should be 25')\n",
    "print(len(X_test))"
   ]
  },
  {
   "cell_type": "markdown",
   "metadata": {},
   "source": [
    "# Defining preprocessing methods"
   ]
  },
  {
   "cell_type": "code",
   "execution_count": 8,
   "metadata": {
    "ExecuteTime": {
     "end_time": "2019-05-21T06:01:05.019212Z",
     "start_time": "2019-05-21T06:01:05.012632Z"
    }
   },
   "outputs": [],
   "source": [
    "def standartize(df):\n",
    "    df2 = df[other]\n",
    "    df = df[feature_names]\n",
    "    df = (df-df.mean())/df.std()\n",
    "    return pd.concat([df,df2], axis=1)\n",
    "\n",
    "def normalize(df): \n",
    "    df2 = df[other]\n",
    "    df = df[feature_names]\n",
    "    df = (df-df.min())/(df.max()-df.min())\n",
    "    return pd.concat([df,df2], axis=1)\n",
    "\n",
    "def mixpreprocessing(df):\n",
    "    df2 = df[other]\n",
    "    df =  1./(1+np.exp(-standartize(df)[feature_names]))\n",
    "    return pd.concat([df,df2], axis=1)"
   ]
  },
  {
   "cell_type": "markdown",
   "metadata": {},
   "source": [
    "# Defining metrics"
   ]
  },
  {
   "cell_type": "code",
   "execution_count": 9,
   "metadata": {
    "ExecuteTime": {
     "end_time": "2019-05-21T06:01:06.174605Z",
     "start_time": "2019-05-21T06:01:06.160436Z"
    }
   },
   "outputs": [],
   "source": [
    "def precision_at_k(true, predict, k=10):\n",
    "    tt = pd.DataFrame({'id':np.arange(len(predict)), 'true':true, 'pred':predict})\n",
    "    true = tt.sort_values(by='true', ascending=False).id.values[:k]\n",
    "    predict = tt.sort_values(by='pred', ascending=False).id.values[:k]\n",
    "    return len(set(true).intersection(set(predict)))/float(k)\n",
    "\n",
    "def AP(true, predict, k=10):\n",
    "    \n",
    "    tt = pd.DataFrame({'id':np.arange(len(predict)), 'true':true, 'pred':predict})\n",
    "    true = tt.sort_values(by='true', ascending=False).id.values[:k]\n",
    "    predict = tt.sort_values(by='pred', ascending=False).id.values[:k]\n",
    "    precisions = np.zeros(k)\n",
    "    tru_predicted = 0.\n",
    "    \n",
    "    for i in range(k):\n",
    "        if predict[i] in true:\n",
    "            tru_predicted += 1\n",
    "            precisions[i] = tru_predicted/(i+1)\n",
    "    return sum(precisions)/k\n",
    "\n",
    "def NDCG_implicit(true, predict, k=10):\n",
    "    \n",
    "    tt = pd.DataFrame({'id':np.arange(len(predict)), 'true':true, 'pred':predict})\n",
    "    true = tt.sort_values(by='true', ascending=False).id.values[:k]\n",
    "    predict = tt.sort_values(by='pred', ascending=False).id.values[:k]\n",
    "    \n",
    "    idcg = 0.\n",
    "    for i in range(k):\n",
    "        idcg += 1./np.log2(i+2)\n",
    "\n",
    "    dcg = 0.\n",
    "    for i in range(k):\n",
    "        if predict[i] in true:\n",
    "            dcg += 1./np.log2(i+2)\n",
    "    return dcg/idcg"
   ]
  },
  {
   "cell_type": "markdown",
   "metadata": {},
   "source": [
    "# Defining models with full grid search on train/test split"
   ]
  },
  {
   "cell_type": "code",
   "execution_count": 10,
   "metadata": {
    "ExecuteTime": {
     "end_time": "2019-05-21T06:01:07.469418Z",
     "start_time": "2019-05-21T06:01:07.273053Z"
    }
   },
   "outputs": [],
   "source": [
    "from sklearn.linear_model import SGDRegressor\n",
    "from sklearn.linear_model import Ridge\n",
    "from sklearn.linear_model import Lasso\n",
    "from sklearn.linear_model import ElasticNet\n",
    "from sklearn.tree import DecisionTreeRegressor\n",
    "from sklearn.ensemble import RandomForestRegressor\n",
    "from xgboost import XGBRegressor\n",
    "import xgboost as xgb"
   ]
  },
  {
   "cell_type": "markdown",
   "metadata": {},
   "source": [
    "## Baseline model"
   ]
  },
  {
   "cell_type": "code",
   "execution_count": 11,
   "metadata": {
    "ExecuteTime": {
     "end_time": "2019-05-21T06:01:10.027535Z",
     "start_time": "2019-05-21T06:01:09.968105Z"
    },
    "scrolled": true
   },
   "outputs": [
    {
     "name": "stdout",
     "output_type": "stream",
     "text": [
      "0.23758350840568812 0.09107142857142857 0.3\n"
     ]
    }
   ],
   "source": [
    "from copy import deepcopy\n",
    "def baseline(x):\n",
    "    pred = deepcopy(x)\n",
    "    np.random.seed(10)\n",
    "    np.random.shuffle(pred)\n",
    "    return pred\n",
    "base_res1 = NDCG_implicit(list(y_val), baseline(list(y_val)), k=10)\n",
    "base_res2 = AP(list(y_val), baseline(list(y_val)), k=10)\n",
    "base_res3 = precision_at_k(list(y_val), baseline(list(y_val)), k=10)\n",
    "\n",
    "print(base_res1,base_res2,base_res3)\n"
   ]
  },
  {
   "cell_type": "code",
   "execution_count": 12,
   "metadata": {
    "ExecuteTime": {
     "end_time": "2019-05-21T06:01:11.016098Z",
     "start_time": "2019-05-21T06:01:11.006694Z"
    },
    "scrolled": true
   },
   "outputs": [
    {
     "data": {
      "text/plain": [
       "0.08607142857142858"
      ]
     },
     "execution_count": 12,
     "metadata": {},
     "output_type": "execute_result"
    }
   ],
   "source": [
    "from copy import deepcopy\n",
    "\n",
    "base_res_2 = AP(list(y_test), baseline(list(y_test)), k=10)\n",
    "base_res_2"
   ]
  },
  {
   "cell_type": "code",
   "execution_count": 13,
   "metadata": {
    "ExecuteTime": {
     "end_time": "2019-05-21T06:01:11.407024Z",
     "start_time": "2019-05-21T06:01:11.393135Z"
    }
   },
   "outputs": [],
   "source": [
    "def train_algo(model, grid, metric):\n",
    "    \n",
    "    if model in set([Ridge, Lasso, SGDRegressor, ElasticNet]):\n",
    "        X_train2 = mixpreprocessing(X_train)\n",
    "        X_val2 = mixpreprocessing(X_val)\n",
    "        X_test2 = mixpreprocessing(X_test)\n",
    "    \n",
    "    # finding the best model and parameters\n",
    "    params_matrix = [grid[k] for k in grid.keys()]\n",
    "    params_combinations = list(itertools.product(*params_matrix))\n",
    "    all_combinations = []\n",
    "    for pc in params_combinations:\n",
    "        params = {}\n",
    "        for k, i in zip(grid.keys(), range(0, len(pc))):\n",
    "            params[k] = pc[i]\n",
    "        all_combinations.append(params)\n",
    "    \n",
    "    \n",
    "    best_res = 0\n",
    "    best_params = all_combinations[0]\n",
    "    res=0\n",
    "    best_model=0\n",
    "    temp = []\n",
    "    error = 0\n",
    "    for c in tqdm(all_combinations):\n",
    "        try:\n",
    "            model = model.set_params(**c)\n",
    "            model.fit(X_train[feature_names], y_train)\n",
    "            predict = model.predict(X_val[feature_names])\n",
    "            met = metric(list(y_val), predict, k=10)\n",
    "            temp.append(met)\n",
    "            # conditions\n",
    "            if(met>best_res):\n",
    "                best_res = met\n",
    "                best_params = c\n",
    "                best_model = model\n",
    "                ap1= AP(list(y_val), predict, k=10)\n",
    "                precision_at_k1= precision_at_k(list(y_val), predict, k=10)\n",
    "        except:\n",
    "            error+=1\n",
    "    print('Number of errors occured '+str(error))\n",
    "            \n",
    "    # testing results on testset\n",
    "    predict = best_model.predict(X_test[feature_names])\n",
    "    best_res_test = metric(y_test, predict, k=10)\n",
    "    print('result on validation is '+str(best_res))\n",
    "    print('result on test is '+str(best_res_test))\n",
    "    diff = round(abs(best_res-best_res_test)/best_res*100,2)\n",
    "    print('difference is '+str(round(diff))+'%')\n",
    "    \n",
    "    ap2= AP(list(y_test), predict, k=10)\n",
    "    precision_at_k2= precision_at_k(list(y_test), predict, k=10)\n",
    "            \n",
    "            \n",
    "    \n",
    "    \n",
    "    return best_res,best_res_test, ap1,ap2,precision_at_k1,precision_at_k2, best_params, best_model, diff"
   ]
  },
  {
   "cell_type": "code",
   "execution_count": 14,
   "metadata": {
    "ExecuteTime": {
     "end_time": "2019-05-21T06:02:08.780773Z",
     "start_time": "2019-05-21T06:01:16.849885Z"
    },
    "scrolled": false
   },
   "outputs": [
    {
     "data": {
      "application/vnd.jupyter.widget-view+json": {
       "model_id": "e4d342a7625e46d385ab76b7b7c9c1ca",
       "version_major": 2,
       "version_minor": 0
      },
      "text/plain": [
       "HBox(children=(IntProgress(value=0, max=504), HTML(value='')))"
      ]
     },
     "metadata": {},
     "output_type": "display_data"
    },
    {
     "name": "stdout",
     "output_type": "stream",
     "text": [
      "\n",
      "Number of errors occured 0\n",
      "result on validation is 0.696162268139923\n",
      "result on test is 0.6719377023185354\n",
      "difference is 3.0%\n"
     ]
    },
    {
     "data": {
      "application/vnd.jupyter.widget-view+json": {
       "model_id": "a03248e6fd254d3989b6b29bb5a43f13",
       "version_major": 2,
       "version_minor": 0
      },
      "text/plain": [
       "HBox(children=(IntProgress(value=0, max=504), HTML(value='')))"
      ]
     },
     "metadata": {},
     "output_type": "display_data"
    },
    {
     "name": "stdout",
     "output_type": "stream",
     "text": [
      "\n",
      "Number of errors occured 0\n",
      "result on validation is 0.78180487222265\n",
      "result on test is 0.6528642754944294\n",
      "difference is 16.0%\n"
     ]
    },
    {
     "data": {
      "application/vnd.jupyter.widget-view+json": {
       "model_id": "a04731b733444f33acdaccdc2ca9464b",
       "version_major": 2,
       "version_minor": 0
      },
      "text/plain": [
       "HBox(children=(IntProgress(value=0, max=36), HTML(value='')))"
      ]
     },
     "metadata": {},
     "output_type": "display_data"
    },
    {
     "name": "stdout",
     "output_type": "stream",
     "text": [
      "\n",
      "Number of errors occured 0\n",
      "result on validation is 0.49435723575344825\n",
      "result on test is 0.6059848036189867\n",
      "difference is 23.0%\n"
     ]
    },
    {
     "data": {
      "application/vnd.jupyter.widget-view+json": {
       "model_id": "671cb42bc0544b57ab3515265210a641",
       "version_major": 2,
       "version_minor": 0
      },
      "text/plain": [
       "HBox(children=(IntProgress(value=0, max=630), HTML(value='')))"
      ]
     },
     "metadata": {},
     "output_type": "display_data"
    },
    {
     "name": "stdout",
     "output_type": "stream",
     "text": [
      "\n",
      "Number of errors occured 0\n",
      "result on validation is 0.5965377185773229\n",
      "result on test is 0.4985723557253838\n",
      "difference is 16.0%\n"
     ]
    },
    {
     "data": {
      "application/vnd.jupyter.widget-view+json": {
       "model_id": "107b3ed185724f4caf9ba7c14617b456",
       "version_major": 2,
       "version_minor": 0
      },
      "text/plain": [
       "HBox(children=(IntProgress(value=0, max=90), HTML(value='')))"
      ]
     },
     "metadata": {},
     "output_type": "display_data"
    },
    {
     "name": "stdout",
     "output_type": "stream",
     "text": [
      "\n",
      "Number of errors occured 0\n",
      "result on validation is 0.5933607200949346\n",
      "result on test is 0.5704044892860389\n",
      "difference is 4.0%\n"
     ]
    },
    {
     "data": {
      "application/vnd.jupyter.widget-view+json": {
       "model_id": "cc1f53c8b6db4be09fce97dda364e794",
       "version_major": 2,
       "version_minor": 0
      },
      "text/plain": [
       "HBox(children=(IntProgress(value=0, max=720), HTML(value='')))"
      ]
     },
     "metadata": {},
     "output_type": "display_data"
    },
    {
     "name": "stdout",
     "output_type": "stream",
     "text": [
      "\n",
      "Number of errors occured 0\n",
      "result on validation is 0.5199967979955745\n",
      "result on test is 0.5653701424067237\n",
      "difference is 9.0%\n"
     ]
    },
    {
     "data": {
      "application/vnd.jupyter.widget-view+json": {
       "model_id": "ec2e661baa1445a986efbb3ebdbc9fe1",
       "version_major": 2,
       "version_minor": 0
      },
      "text/plain": [
       "HBox(children=(IntProgress(value=0, max=1350), HTML(value='')))"
      ]
     },
     "metadata": {},
     "output_type": "display_data"
    },
    {
     "name": "stdout",
     "output_type": "stream",
     "text": [
      "\n",
      "Number of errors occured 0\n",
      "result on validation is 0.6840182226156365\n",
      "result on test is 0.677273373952691\n",
      "difference is 1.0%\n"
     ]
    }
   ],
   "source": [
    "import itertools\n",
    "from tqdm import tqdm_notebook as tqdm\n",
    "import warnings\n",
    "warnings.filterwarnings('ignore')\n",
    "\n",
    "dtr_grid = {\n",
    "                      'max_depth': [x for x in range(1,8)],\n",
    "                      'min_samples_split': [x for x in range(2,10)],\n",
    "                      'min_samples_leaf': [x for x in range(1,10)]\n",
    "                     }\n",
    "rfr_grid = {\n",
    "                      'max_depth': [x for x in range(1,8)],\n",
    "                      'min_samples_split': [x for x in range(2,10)],\n",
    "                      'min_samples_leaf': [x for x in range(1,10)],\n",
    "                        'random_state': [2]\n",
    "                     }\n",
    "lir_grid = {\n",
    "                      'penalty': ['none'],\n",
    "                      'max_iter': [x*100 for x in range(10,100,10)],\n",
    "                      'learning_rate': ['constant', 'optimal', 'invscaling', 'adaptive']\n",
    "                     }\n",
    "rr_grid = {\n",
    "                      'alpha': [x*0.1 for x in range(5,15)],\n",
    "                      'max_iter': [x*100 for x in range(10,100,10)],\n",
    "                      'solver' : ['auto','svd','cholesky','lsqr','sparse_cg','sag', 'saga']\n",
    "                     }\n",
    "lar_grid = {\n",
    "                      'alpha': [x*0.1 for x in range(5,15)],\n",
    "                      'max_iter': [x*100 for x in range(10,100,10)]\n",
    "                     }\n",
    "enr_grid = {\n",
    "                      'alpha': [x*0.1 for x in range(5,15)],\n",
    "                      'max_iter': [x*100 for x in range(10,100,10)],\n",
    "                      'l1_ratio' : [x*0.1 for x in range(1,9)]\n",
    "                     }\n",
    "xgb_grid = {\n",
    "                      'max_depth': [x for x in range(2,4)],\n",
    "                      'learning_rate': [x*0.001 for x in range(0,100,7)],\n",
    "                      'n_estimators': [x*10 for x in range(5,15,2)],\n",
    "                      'reg_alpha': [x*0.05 for x in range(3,15,4)],\n",
    "                      'reg_lambda': [x*0.05 for x in range(3,14,4)],\n",
    "                         'random_state': [2]\n",
    "                     }\n",
    "\n",
    "grids = [dtr_grid, rfr_grid , lir_grid, rr_grid, lar_grid, enr_grid, xgb_grid]\n",
    "models = [DecisionTreeRegressor(), RandomForestRegressor(), SGDRegressor(), Ridge(), Lasso(), ElasticNet(), XGBRegressor()]\n",
    "names = ['Baseline', 'DecisionTreeRegressor', 'RandomForestRegressor', 'SGDRegressor', \n",
    "         'Ridge', 'Lasso', 'ElasticNet', 'XGBRegressor']\n",
    "\n",
    "best_res,best_res2,best_res3,best_res_test,best_res_test2,best_res_test3, best_params, best_model, diff = [base_res1],[base_res2],[base_res3],[base_res1],[base_res2],[base_res3],[],[],[0]\n",
    "for m,g in zip(models, grids):\n",
    "    i1,i2,i12, i22,i13,i23, i3, i4, i6 = train_algo(m, g, NDCG_implicit)\n",
    "    best_res.append(i1)\n",
    "    best_res_test.append(i2)\n",
    "    best_res2.append(i12)\n",
    "    best_res_test2.append(i22)\n",
    "    best_res3.append(i13)\n",
    "    best_res_test3.append(i23)\n",
    "    best_params.append(i3)\n",
    "    best_model.append(i4)\n",
    "    diff.append(i6)\n"
   ]
  },
  {
   "cell_type": "code",
   "execution_count": 312,
   "metadata": {
    "ExecuteTime": {
     "end_time": "2019-05-19T14:13:43.722735Z",
     "start_time": "2019-05-19T14:13:43.707384Z"
    },
    "scrolled": true
   },
   "outputs": [
    {
     "data": {
      "text/html": [
       "<div>\n",
       "<style scoped>\n",
       "    .dataframe tbody tr th:only-of-type {\n",
       "        vertical-align: middle;\n",
       "    }\n",
       "\n",
       "    .dataframe tbody tr th {\n",
       "        vertical-align: top;\n",
       "    }\n",
       "\n",
       "    .dataframe thead th {\n",
       "        text-align: right;\n",
       "    }\n",
       "</style>\n",
       "<table border=\"1\" class=\"dataframe\">\n",
       "  <thead>\n",
       "    <tr style=\"text-align: right;\">\n",
       "      <th></th>\n",
       "      <th>Algorithm</th>\n",
       "      <th>NDCG_val</th>\n",
       "      <th>NDCG_test</th>\n",
       "      <th>AP_val</th>\n",
       "      <th>AP_test</th>\n",
       "      <th>Precision_val</th>\n",
       "      <th>Precision_test</th>\n",
       "      <th>diff_in_%</th>\n",
       "    </tr>\n",
       "  </thead>\n",
       "  <tbody>\n",
       "    <tr>\n",
       "      <th>0</th>\n",
       "      <td>Baseline</td>\n",
       "      <td>0.237584</td>\n",
       "      <td>0.237584</td>\n",
       "      <td>0.091071</td>\n",
       "      <td>0.091071</td>\n",
       "      <td>0.3</td>\n",
       "      <td>0.3</td>\n",
       "      <td>0.00</td>\n",
       "    </tr>\n",
       "    <tr>\n",
       "      <th>1</th>\n",
       "      <td>DecisionTree</td>\n",
       "      <td>0.696162</td>\n",
       "      <td>0.671938</td>\n",
       "      <td>0.523333</td>\n",
       "      <td>0.477500</td>\n",
       "      <td>0.6</td>\n",
       "      <td>0.6</td>\n",
       "      <td>3.48</td>\n",
       "    </tr>\n",
       "    <tr>\n",
       "      <th>2</th>\n",
       "      <td>RandomForest</td>\n",
       "      <td>0.781805</td>\n",
       "      <td>0.652864</td>\n",
       "      <td>0.646825</td>\n",
       "      <td>0.468095</td>\n",
       "      <td>0.7</td>\n",
       "      <td>0.6</td>\n",
       "      <td>16.49</td>\n",
       "    </tr>\n",
       "    <tr>\n",
       "      <th>3</th>\n",
       "      <td>SGD</td>\n",
       "      <td>0.494357</td>\n",
       "      <td>0.605985</td>\n",
       "      <td>0.291667</td>\n",
       "      <td>0.407143</td>\n",
       "      <td>0.4</td>\n",
       "      <td>0.5</td>\n",
       "      <td>22.58</td>\n",
       "    </tr>\n",
       "    <tr>\n",
       "      <th>4</th>\n",
       "      <td>Ridge</td>\n",
       "      <td>0.596538</td>\n",
       "      <td>0.498572</td>\n",
       "      <td>0.394643</td>\n",
       "      <td>0.287302</td>\n",
       "      <td>0.5</td>\n",
       "      <td>0.4</td>\n",
       "      <td>16.42</td>\n",
       "    </tr>\n",
       "    <tr>\n",
       "      <th>5</th>\n",
       "      <td>Lasso</td>\n",
       "      <td>0.593361</td>\n",
       "      <td>0.570404</td>\n",
       "      <td>0.387698</td>\n",
       "      <td>0.350000</td>\n",
       "      <td>0.5</td>\n",
       "      <td>0.5</td>\n",
       "      <td>3.87</td>\n",
       "    </tr>\n",
       "    <tr>\n",
       "      <th>6</th>\n",
       "      <td>ElasticNet</td>\n",
       "      <td>0.519997</td>\n",
       "      <td>0.565370</td>\n",
       "      <td>0.319444</td>\n",
       "      <td>0.342857</td>\n",
       "      <td>0.4</td>\n",
       "      <td>0.5</td>\n",
       "      <td>8.73</td>\n",
       "    </tr>\n",
       "    <tr>\n",
       "      <th>7</th>\n",
       "      <td>XGBRegressor</td>\n",
       "      <td>0.684018</td>\n",
       "      <td>0.677273</td>\n",
       "      <td>0.495556</td>\n",
       "      <td>0.482222</td>\n",
       "      <td>0.6</td>\n",
       "      <td>0.6</td>\n",
       "      <td>0.99</td>\n",
       "    </tr>\n",
       "  </tbody>\n",
       "</table>\n",
       "</div>"
      ],
      "text/plain": [
       "      Algorithm  NDCG_val  NDCG_test    AP_val   AP_test  Precision_val  \\\n",
       "0      Baseline  0.237584   0.237584  0.091071  0.091071            0.3   \n",
       "1  DecisionTree  0.696162   0.671938  0.523333  0.477500            0.6   \n",
       "2  RandomForest  0.781805   0.652864  0.646825  0.468095            0.7   \n",
       "3           SGD  0.494357   0.605985  0.291667  0.407143            0.4   \n",
       "4         Ridge  0.596538   0.498572  0.394643  0.287302            0.5   \n",
       "5         Lasso  0.593361   0.570404  0.387698  0.350000            0.5   \n",
       "6    ElasticNet  0.519997   0.565370  0.319444  0.342857            0.4   \n",
       "7  XGBRegressor  0.684018   0.677273  0.495556  0.482222            0.6   \n",
       "\n",
       "   Precision_test  diff_in_%  \n",
       "0             0.3       0.00  \n",
       "1             0.6       3.48  \n",
       "2             0.6      16.49  \n",
       "3             0.5      22.58  \n",
       "4             0.4      16.42  \n",
       "5             0.5       3.87  \n",
       "6             0.5       8.73  \n",
       "7             0.6       0.99  "
      ]
     },
     "execution_count": 312,
     "metadata": {},
     "output_type": "execute_result"
    }
   ],
   "source": [
    "names = ['Baseline', 'DecisionTree', 'RandomForest', 'SGD', \n",
    "         'Ridge', 'Lasso', 'ElasticNet', 'XGBRegressor']\n",
    "\n",
    "result_df = pd.DataFrame({'Algorithm': names, 'NDCG_val': best_res, 'NDCG_test': best_res_test,'AP_val': best_res2, 'AP_test': best_res_test2,'Precision_val': best_res3, 'Precision_test': best_res_test3,'diff_in_%':diff})    \n",
    "result_df"
   ]
  },
  {
   "cell_type": "code",
   "execution_count": 314,
   "metadata": {
    "ExecuteTime": {
     "end_time": "2019-05-19T14:14:36.353955Z",
     "start_time": "2019-05-19T14:14:33.723523Z"
    },
    "scrolled": true
   },
   "outputs": [
    {
     "data": {
      "text/html": [
       "<iframe id=\"igraph\" scrolling=\"no\" style=\"border:none;\" seamless=\"seamless\" src=\"https://plot.ly/~MykolaTrokhymovych/148.embed\" height=\"320px\" width=\"100%\"></iframe>"
      ],
      "text/plain": [
       "<plotly.tools.PlotlyDisplay object>"
      ]
     },
     "execution_count": 314,
     "metadata": {},
     "output_type": "execute_result"
    }
   ],
   "source": [
    "# trace = go.Bar(\n",
    "#             x=show_df['name'].values,\n",
    "#             y=show_df[colum_name].values,\n",
    "#             marker=dict(\n",
    "#                color=colors[i]),\n",
    "#         )\n",
    "\n",
    "#         data = [trace]\n",
    "#         layout = go.Layout(\n",
    "#             title='Comparing '+colum_name+' in datasets',\n",
    "#             xaxis={'title':''},\n",
    "#             yaxis={'title':colum_name}\n",
    "#         )\n",
    "\n",
    "#         fig = go.Figure(data=data, layout=layout)\n",
    "#         config={'showLink': False, 'displayModeBar': False}\n",
    "#         py.plot(fig, filename=plot_path + colum_name +'.html', config=config, auto_open=False)\n",
    "\n",
    "\n",
    "\n",
    "import plotly.plotly as py\n",
    "import plotly.figure_factory as ff\n",
    "\n",
    "import pandas as pd\n",
    "\n",
    "df = result_df.round(2)\n",
    "df = df.set_index('Algorithm')\n",
    "\n",
    "colorscale = [[0, '#0b111b'],[.5, '#c1e1ee'],[1, '#93b2bf']]\n",
    "\n",
    "table = ff.create_table(df, colorscale=colorscale, index=True, )\n",
    "# Make text size larger\n",
    "for i in range(len(table.layout.annotations)):\n",
    "    table.layout.annotations[i].font.size = 14\n",
    "config={'showLink': False, 'displayModeBar': False}\n",
    "    \n",
    "plot(table, filename='coffee_table' + '.html', config=config, auto_open=False)\n",
    "py.iplot(table)"
   ]
  },
  {
   "cell_type": "code",
   "execution_count": 316,
   "metadata": {
    "ExecuteTime": {
     "end_time": "2019-05-19T14:15:01.377971Z",
     "start_time": "2019-05-19T14:14:57.926818Z"
    }
   },
   "outputs": [
    {
     "data": {
      "text/html": [
       "<iframe id=\"igraph\" scrolling=\"no\" style=\"border:none;\" seamless=\"seamless\" src=\"https://plot.ly/~MykolaTrokhymovych/152.embed\" height=\"450px\" width=\"650px\"></iframe>"
      ],
      "text/plain": [
       "<plotly.tools.PlotlyDisplay object>"
      ]
     },
     "execution_count": 316,
     "metadata": {},
     "output_type": "execute_result"
    }
   ],
   "source": [
    "df = result_df.round(2)\n",
    "x = list(df.Algorithm)\n",
    "traces = []\n",
    "all_colors_mean = ['#c1e1ee', '#93b2bf']\n",
    "\n",
    "traces.append(go.Scatter(x=x, y=df.ix[:, 'NDCG_val'],\n",
    "                             name='trend for metric', line=dict(color=('rgb(22, 96, 167)'), width=4, dash='dot')))\n",
    "\n",
    "for name, color in zip(list(df.columns)[1:3], all_colors_mean):\n",
    "        y=df[name].values\n",
    "        traces.append(go.Bar(x=x, y=y,\n",
    "                             text=y, textfont=dict(size=15),\n",
    "                             name=name,\n",
    "                             marker=dict(color=color, line=dict(color='rgb(8,48,107)', width=1.5), ),\n",
    "                             opacity=0.6))\n",
    "\n",
    "\n",
    "layout = go.Layout(height=450, width=650,\n",
    "                       font=dict(color='white'),\n",
    "                       title='NDCG metrics on train/test/val split',\n",
    "                       titlefont=dict(size=20, color='white'),\n",
    "                       xaxis=dict(tickfont=dict(size=10, color='white')),\n",
    "                       yaxis=dict(tickfont=dict(color='white'), range=[0.2, 0.8]),\n",
    "                      paper_bgcolor='#121f2a',\n",
    "                      plot_bgcolor='#121f2a')\n",
    "fig = go.Figure(traces, layout=layout)\n",
    "plot(fig, filename='plot_coffee_1' + '.html', config=config, auto_open=False)\n",
    "py.iplot(fig)"
   ]
  },
  {
   "cell_type": "markdown",
   "metadata": {},
   "source": [
    "## Cross validation"
   ]
  },
  {
   "cell_type": "code",
   "execution_count": 319,
   "metadata": {
    "ExecuteTime": {
     "end_time": "2019-05-19T14:18:25.116052Z",
     "start_time": "2019-05-19T14:16:19.592596Z"
    }
   },
   "outputs": [
    {
     "name": "stdout",
     "output_type": "stream",
     "text": [
      "result on validation is 0.5569219467913317\n",
      "result on test is 0.4163824138054737\n",
      "difference is 25.0%\n",
      "result on validation is 0.5545240796705359\n",
      "result on test is 0.5455017237786198\n",
      "difference is 2.0%\n",
      "result on validation is 0.4958990177580284\n",
      "result on test is 0.46299204139243627\n",
      "difference is 7.0%\n",
      "result on validation is 0.5260751726659298\n",
      "result on test is 0.20904936749052638\n",
      "difference is 60.0%\n",
      "result on validation is 0.5640607554472286\n",
      "result on test is 0.2992268320114626\n",
      "difference is 47.0%\n",
      "result on validation is 0.5504800950567618\n",
      "result on test is 0.3845937724137609\n",
      "difference is 30.0%\n",
      "result on validation is 0.5746863798059912\n",
      "result on test is 0.5618918191694954\n",
      "difference is 2.0%\n"
     ]
    }
   ],
   "source": [
    "from sklearn.metrics import fbeta_score, make_scorer\n",
    "from sklearn.model_selection import StratifiedShuffleSplit, cross_val_score\n",
    "from sklearn.model_selection import ShuffleSplit\n",
    "from sklearn.model_selection import GridSearchCV, RandomizedSearchCV\n",
    "\n",
    "def train_algo_cv(model, grid, metric):\n",
    "    \n",
    "    scorer = make_scorer(metric)\n",
    "    \n",
    "    random_grid_XGB_CV = RandomizedSearchCV(model,\n",
    "                                            grid,\n",
    "                                            scoring = scorer,\n",
    "                                            cv = CV_SSS,\n",
    "                                            n_iter = 200\n",
    "                                            )\n",
    "\n",
    "    random_grid_XGB_CV.fit(X_train[feature_names], y_train)\n",
    "    \n",
    "    best_res = random_grid_XGB_CV.best_score_\n",
    "    \n",
    "    best_model = random_grid_XGB_CV.best_estimator_\n",
    "    \n",
    "    predict = best_model.predict(X_val[feature_names])\n",
    "    best_res2, best_res3  = AP(y_val, predict), precision_at_k(y_val, predict)\n",
    "    \n",
    "    \n",
    "    \n",
    "    # testing results on testset\n",
    "    predict = best_model.predict(X_test[feature_names])\n",
    "    best_res_test = metric(y_test, predict)\n",
    "    best_res_test2, best_res_test3  = AP(y_test, predict), precision_at_k(y_test, predict)\n",
    "    print('result on validation is '+str(best_res))\n",
    "    print('result on test is '+str(best_res_test))\n",
    "    diff = round(abs(best_res-best_res_test)/best_res*100,2)\n",
    "    print('difference is '+str(round(diff))+'%')\n",
    "            \n",
    "            \n",
    "    \n",
    "    \n",
    "    return best_res, best_res_test, best_res2, best_res_test2, best_res3, best_res_test3, best_model, diff\n",
    "\n",
    "data = pd.read_csv('coffee_dataset.csv')\n",
    "X = data\n",
    "# X = X.merge(Y_kiev, on='ven')\n",
    "X.fillna(X.mean(), inplace=True)\n",
    "y = data.Y\n",
    "# X = mixpreprocessing(X)\n",
    "\n",
    "\n",
    "X_train, X_test, y_train, y_test = train_test_split(X, y, test_size=0.1, random_state=0)\n",
    "# X_train, X_val, y_train, y_val = train_test_split(X_train, y_train, test_size=1./9., random_state=42)\n",
    "\n",
    "CV_SSS = ShuffleSplit(n_splits=8, test_size=1./9., random_state=13)\n",
    "\n",
    "grids = [dtr_grid, rfr_grid , lir_grid, rr_grid, lar_grid, enr_grid, xgb_grid]\n",
    "models = [DecisionTreeRegressor(), RandomForestRegressor(), SGDRegressor(), Ridge(), Lasso(), ElasticNet(), XGBRegressor()]\n",
    "names = ['Baseline', 'DecisionTreeRegressor', 'RandomForestRegressor', 'SGDRegressor', \n",
    "         'Ridge', 'Lasso', 'ElasticNet', 'XGBRegressor']\n",
    "\n",
    "best_res, best_res_test, best_model, diff = [base_res],[base_res],[],[0]\n",
    "best_res,best_res2,best_res3,best_res_test,best_res_test2,best_res_test3, best_model, diff = [base_res1],[base_res2],[base_res3],[base_res1],[base_res2],[base_res3],[],[0]\n",
    "\n",
    "for m,g in zip(models, grids):    \n",
    "    i1,i2,i12, i22,i13,i23, i3, i6 = train_algo_cv(m, g, NDCG_implicit)\n",
    "    best_res.append(i1)\n",
    "    best_res_test.append(i2)\n",
    "    best_res2.append(i12)\n",
    "    best_res_test2.append(i22)\n",
    "    best_res3.append(i13)\n",
    "    best_res_test3.append(i23)\n",
    "    best_params.append(i3)\n",
    "    diff.append(i6)\n",
    "    \n",
    "result_df_cv = pd.DataFrame({'algorithm': names, 'result_on_validation': best_res, 'result_on_test': best_res_test,'difference_in_%':diff})    \n",
    "\n"
   ]
  },
  {
   "cell_type": "code",
   "execution_count": 320,
   "metadata": {
    "ExecuteTime": {
     "end_time": "2019-05-19T14:18:25.140175Z",
     "start_time": "2019-05-19T14:18:25.118321Z"
    }
   },
   "outputs": [
    {
     "data": {
      "text/html": [
       "<div>\n",
       "<style scoped>\n",
       "    .dataframe tbody tr th:only-of-type {\n",
       "        vertical-align: middle;\n",
       "    }\n",
       "\n",
       "    .dataframe tbody tr th {\n",
       "        vertical-align: top;\n",
       "    }\n",
       "\n",
       "    .dataframe thead th {\n",
       "        text-align: right;\n",
       "    }\n",
       "</style>\n",
       "<table border=\"1\" class=\"dataframe\">\n",
       "  <thead>\n",
       "    <tr style=\"text-align: right;\">\n",
       "      <th></th>\n",
       "      <th>Algorithm</th>\n",
       "      <th>NDCG_val</th>\n",
       "      <th>NDCG_test</th>\n",
       "      <th>AP_val</th>\n",
       "      <th>AP_test</th>\n",
       "      <th>Precision_val</th>\n",
       "      <th>Precision_test</th>\n",
       "      <th>diff_in_%</th>\n",
       "    </tr>\n",
       "  </thead>\n",
       "  <tbody>\n",
       "    <tr>\n",
       "      <th>0</th>\n",
       "      <td>Baseline</td>\n",
       "      <td>0.237584</td>\n",
       "      <td>0.237584</td>\n",
       "      <td>0.091071</td>\n",
       "      <td>0.091071</td>\n",
       "      <td>0.3</td>\n",
       "      <td>0.3</td>\n",
       "      <td>0.00</td>\n",
       "    </tr>\n",
       "    <tr>\n",
       "      <th>1</th>\n",
       "      <td>DecisionTree</td>\n",
       "      <td>0.556922</td>\n",
       "      <td>0.416382</td>\n",
       "      <td>0.523333</td>\n",
       "      <td>0.242976</td>\n",
       "      <td>0.6</td>\n",
       "      <td>0.5</td>\n",
       "      <td>25.24</td>\n",
       "    </tr>\n",
       "    <tr>\n",
       "      <th>2</th>\n",
       "      <td>RandomForest</td>\n",
       "      <td>0.554524</td>\n",
       "      <td>0.545502</td>\n",
       "      <td>0.423889</td>\n",
       "      <td>0.365833</td>\n",
       "      <td>0.6</td>\n",
       "      <td>0.6</td>\n",
       "      <td>1.63</td>\n",
       "    </tr>\n",
       "    <tr>\n",
       "      <th>3</th>\n",
       "      <td>SGD</td>\n",
       "      <td>0.495899</td>\n",
       "      <td>0.462992</td>\n",
       "      <td>0.113333</td>\n",
       "      <td>0.272222</td>\n",
       "      <td>0.3</td>\n",
       "      <td>0.5</td>\n",
       "      <td>6.64</td>\n",
       "    </tr>\n",
       "    <tr>\n",
       "      <th>4</th>\n",
       "      <td>Ridge</td>\n",
       "      <td>0.526075</td>\n",
       "      <td>0.209049</td>\n",
       "      <td>0.370833</td>\n",
       "      <td>0.072619</td>\n",
       "      <td>0.5</td>\n",
       "      <td>0.3</td>\n",
       "      <td>60.26</td>\n",
       "    </tr>\n",
       "    <tr>\n",
       "      <th>5</th>\n",
       "      <td>Lasso</td>\n",
       "      <td>0.564061</td>\n",
       "      <td>0.299227</td>\n",
       "      <td>0.375000</td>\n",
       "      <td>0.135278</td>\n",
       "      <td>0.5</td>\n",
       "      <td>0.4</td>\n",
       "      <td>46.95</td>\n",
       "    </tr>\n",
       "    <tr>\n",
       "      <th>6</th>\n",
       "      <td>ElasticNet</td>\n",
       "      <td>0.550480</td>\n",
       "      <td>0.384594</td>\n",
       "      <td>0.281667</td>\n",
       "      <td>0.198611</td>\n",
       "      <td>0.4</td>\n",
       "      <td>0.4</td>\n",
       "      <td>30.13</td>\n",
       "    </tr>\n",
       "    <tr>\n",
       "      <th>7</th>\n",
       "      <td>XGBRegressor</td>\n",
       "      <td>0.574686</td>\n",
       "      <td>0.561892</td>\n",
       "      <td>0.281667</td>\n",
       "      <td>0.394167</td>\n",
       "      <td>0.4</td>\n",
       "      <td>0.6</td>\n",
       "      <td>2.23</td>\n",
       "    </tr>\n",
       "  </tbody>\n",
       "</table>\n",
       "</div>"
      ],
      "text/plain": [
       "      Algorithm  NDCG_val  NDCG_test    AP_val   AP_test  Precision_val  \\\n",
       "0      Baseline  0.237584   0.237584  0.091071  0.091071            0.3   \n",
       "1  DecisionTree  0.556922   0.416382  0.523333  0.242976            0.6   \n",
       "2  RandomForest  0.554524   0.545502  0.423889  0.365833            0.6   \n",
       "3           SGD  0.495899   0.462992  0.113333  0.272222            0.3   \n",
       "4         Ridge  0.526075   0.209049  0.370833  0.072619            0.5   \n",
       "5         Lasso  0.564061   0.299227  0.375000  0.135278            0.5   \n",
       "6    ElasticNet  0.550480   0.384594  0.281667  0.198611            0.4   \n",
       "7  XGBRegressor  0.574686   0.561892  0.281667  0.394167            0.4   \n",
       "\n",
       "   Precision_test  diff_in_%  \n",
       "0             0.3       0.00  \n",
       "1             0.5      25.24  \n",
       "2             0.6       1.63  \n",
       "3             0.5       6.64  \n",
       "4             0.3      60.26  \n",
       "5             0.4      46.95  \n",
       "6             0.4      30.13  \n",
       "7             0.6       2.23  "
      ]
     },
     "execution_count": 320,
     "metadata": {},
     "output_type": "execute_result"
    }
   ],
   "source": [
    "names = ['Baseline', 'DecisionTree', 'RandomForest', 'SGD', \n",
    "         'Ridge', 'Lasso', 'ElasticNet', 'XGBRegressor']\n",
    "\n",
    "result_df_cv = pd.DataFrame({'Algorithm': names, 'NDCG_val': best_res, 'NDCG_test': best_res_test,'AP_val': best_res2, 'AP_test': best_res_test2,'Precision_val': best_res3, 'Precision_test': best_res_test3,'diff_in_%':diff})    \n",
    "result_df_cv"
   ]
  },
  {
   "cell_type": "code",
   "execution_count": 321,
   "metadata": {
    "ExecuteTime": {
     "end_time": "2019-05-19T14:18:25.250316Z",
     "start_time": "2019-05-19T14:18:25.143932Z"
    }
   },
   "outputs": [
    {
     "data": {
      "text/html": [
       "<script type=\"text/javascript\">window.PlotlyConfig = {MathJaxConfig: 'local'};</script><script type=\"text/javascript\">if (window.MathJax) {MathJax.Hub.Config({SVG: {font: \"STIX-Web\"}});}</script><script>requirejs.config({paths: { 'plotly': ['https://cdn.plot.ly/plotly-latest.min']},});if(!window._Plotly) {require(['plotly'],function(plotly) {window._Plotly=plotly;});}</script>"
      ],
      "text/vnd.plotly.v1+html": [
       "<script type=\"text/javascript\">window.PlotlyConfig = {MathJaxConfig: 'local'};</script><script type=\"text/javascript\">if (window.MathJax) {MathJax.Hub.Config({SVG: {font: \"STIX-Web\"}});}</script><script>requirejs.config({paths: { 'plotly': ['https://cdn.plot.ly/plotly-latest.min']},});if(!window._Plotly) {require(['plotly'],function(plotly) {window._Plotly=plotly;});}</script>"
      ]
     },
     "metadata": {},
     "output_type": "display_data"
    },
    {
     "data": {
      "text/plain": [
       "'file:///Users/trokhymovych/Documents/GEOProject/dataset_WWW2019/plot_coffee_2.html'"
      ]
     },
     "execution_count": 321,
     "metadata": {},
     "output_type": "execute_result"
    }
   ],
   "source": [
    "from plotly.offline import download_plotlyjs, init_notebook_mode, plot, iplot\n",
    "import plotly.graph_objs as go\n",
    "import plotly.figure_factory as ff\n",
    "\n",
    "\n",
    "init_notebook_mode(connected=True)\n",
    "df = result_df_cv.round(2)\n",
    "x = list(df.Algorithm)\n",
    "traces = []\n",
    "all_colors_mean = ['#c1e1ee', '#93b2bf']\n",
    "\n",
    "traces.append(go.Scatter(x=x, y=df.ix[:, 'NDCG_val'],\n",
    "                             name='trend for metric', line=dict(color=('rgb(22, 96, 167)'), width=4, dash='dot')))\n",
    "\n",
    "for name, color in zip(list(df.columns)[1:3], all_colors_mean):\n",
    "        y=df[name].values\n",
    "        traces.append(go.Bar(x=x, y=y,\n",
    "                             text=y, textfont=dict(size=15),\n",
    "                             name=name,\n",
    "                             marker=dict(color=color, line=dict(color='rgb(8,48,107)', width=1.5), ),\n",
    "                             opacity=0.6))\n",
    "\n",
    "\n",
    "layout = go.Layout(height=450, width=650,\n",
    "                       font=dict(color='white'),\n",
    "                       title='NDCG metrics on cross-validation',\n",
    "                       titlefont=dict(size=20, color='white'),\n",
    "                       xaxis=dict(tickfont=dict(size=10, color='white')),\n",
    "                       yaxis=dict(tickfont=dict(color='white'), range=[0.3, 0.85]),\n",
    "                      paper_bgcolor='#121f2a',\n",
    "                      plot_bgcolor='#121f2a')\n",
    "fig = go.Figure(traces, layout=layout)\n",
    "plot(fig, filename='plot_coffee_2' + '.html', config=config, auto_open=False)\n",
    "# py.iplot(fig)"
   ]
  },
  {
   "cell_type": "markdown",
   "metadata": {},
   "source": [
    "## Features importance "
   ]
  },
  {
   "cell_type": "code",
   "execution_count": 326,
   "metadata": {
    "ExecuteTime": {
     "end_time": "2019-05-19T14:21:35.181791Z",
     "start_time": "2019-05-19T14:21:35.175679Z"
    }
   },
   "outputs": [
    {
     "data": {
      "text/plain": [
       "RandomForestRegressor(bootstrap=True, criterion='mse', max_depth=3,\n",
       "           max_features='auto', max_leaf_nodes=None,\n",
       "           min_impurity_decrease=0.0, min_impurity_split=None,\n",
       "           min_samples_leaf=8, min_samples_split=8,\n",
       "           min_weight_fraction_leaf=0.0, n_estimators=10, n_jobs=None,\n",
       "           oob_score=False, random_state=2, verbose=0, warm_start=False)"
      ]
     },
     "execution_count": 326,
     "metadata": {},
     "output_type": "execute_result"
    }
   ],
   "source": [
    "best_model = best_params[-6]\n",
    "best_model"
   ]
  },
  {
   "cell_type": "code",
   "execution_count": 327,
   "metadata": {
    "ExecuteTime": {
     "end_time": "2019-05-19T14:21:41.050250Z",
     "start_time": "2019-05-19T14:21:39.326452Z"
    }
   },
   "outputs": [
    {
     "data": {
      "text/html": [
       "<script type=\"text/javascript\">window.PlotlyConfig = {MathJaxConfig: 'local'};</script><script type=\"text/javascript\">if (window.MathJax) {MathJax.Hub.Config({SVG: {font: \"STIX-Web\"}});}</script><script>requirejs.config({paths: { 'plotly': ['https://cdn.plot.ly/plotly-latest.min']},});if(!window._Plotly) {require(['plotly'],function(plotly) {window._Plotly=plotly;});}</script>"
      ],
      "text/vnd.plotly.v1+html": [
       "<script type=\"text/javascript\">window.PlotlyConfig = {MathJaxConfig: 'local'};</script><script type=\"text/javascript\">if (window.MathJax) {MathJax.Hub.Config({SVG: {font: \"STIX-Web\"}});}</script><script>requirejs.config({paths: { 'plotly': ['https://cdn.plot.ly/plotly-latest.min']},});if(!window._Plotly) {require(['plotly'],function(plotly) {window._Plotly=plotly;});}</script>"
      ]
     },
     "metadata": {},
     "output_type": "display_data"
    },
    {
     "data": {
      "text/html": [
       "<iframe id=\"igraph\" scrolling=\"no\" style=\"border:none;\" seamless=\"seamless\" src=\"https://plot.ly/~MykolaTrokhymovych/156.embed\" height=\"450px\" width=\"650px\"></iframe>"
      ],
      "text/plain": [
       "<plotly.tools.PlotlyDisplay object>"
      ]
     },
     "execution_count": 327,
     "metadata": {},
     "output_type": "execute_result"
    }
   ],
   "source": [
    "from plotly.offline import download_plotlyjs, init_notebook_mode, plot, iplot\n",
    "import plotly.graph_objs as go\n",
    "import plotly.figure_factory as ff\n",
    "init_notebook_mode(connected=True)\n",
    "\n",
    "x = feature_names\n",
    "traces = []\n",
    "all_colors_mean = ['#c1e1ee', '#93b2bf']\n",
    "\n",
    "# for name, color in zip(list(df.columns)[1:3], all_colors_mean):\n",
    "y= best_model.feature_importances_\n",
    "traces.append(go.Bar(x=x, y=y,\n",
    "                     text=y, textfont=dict(size=15),\n",
    "                     name=name,\n",
    "                     marker=dict(color='#c1e1ee', line=dict(color='rgb(8,48,107)', width=1.5), ),\n",
    "                     opacity=0.6))\n",
    "\n",
    "\n",
    "layout = go.Layout(height=450, width=650,\n",
    "                       font=dict(color='white'),\n",
    "                       title='Features importance',\n",
    "                       titlefont=dict(size=20, color='white'),\n",
    "                       xaxis=dict(tickfont=dict(size=10, color='white')),\n",
    "                       yaxis=dict(tickfont=dict(color='white'), range=[0, 0.25]),\n",
    "                      paper_bgcolor='#121f2a',\n",
    "                      plot_bgcolor='#121f2a')\n",
    "fig = go.Figure(traces, layout=layout)\n",
    "plot(fig, filename='plot_coffee_3' + '.html', config=config, auto_open=False, )\n",
    "py.iplot(fig)"
   ]
  },
  {
   "cell_type": "code",
   "execution_count": null,
   "metadata": {},
   "outputs": [],
   "source": []
  },
  {
   "cell_type": "code",
   "execution_count": null,
   "metadata": {},
   "outputs": [],
   "source": []
  },
  {
   "cell_type": "code",
   "execution_count": 41,
   "metadata": {
    "ExecuteTime": {
     "end_time": "2019-05-22T09:33:43.872225Z",
     "start_time": "2019-05-22T09:33:43.865805Z"
    }
   },
   "outputs": [
    {
     "data": {
      "text/plain": [
       "array([0.15546218, 0.20588235, 0.31932773, 0.31932773])"
      ]
     },
     "execution_count": 41,
     "metadata": {},
     "output_type": "execute_result"
    }
   ],
   "source": [
    "A = np.array([[1.0, 0.5, 0.5, 0.5], \n",
    "     [1.5, 1.0, 0.5, 0.5], \n",
    "     [1.5, 1.5, 1.0, 1.0], \n",
    "     [1.5, 1.5, 1.0, 1.0]])\n",
    "b = np.array([2.5, 3.5, 5, 5])\n",
    "\n",
    "b1 = A.dot(b)\n",
    "K1 = b1/np.sum(b1)\n",
    "K1"
   ]
  },
  {
   "cell_type": "code",
   "execution_count": 42,
   "metadata": {
    "ExecuteTime": {
     "end_time": "2019-05-22T09:35:19.202877Z",
     "start_time": "2019-05-22T09:35:19.188958Z"
    }
   },
   "outputs": [
    {
     "data": {
      "text/plain": [
       "array([34.375, 45.125, 70.25 , 70.25 ])"
      ]
     },
     "metadata": {},
     "output_type": "display_data"
    },
    {
     "data": {
      "text/plain": [
       "array([0.15625   , 0.20511364, 0.31931818, 0.31931818])"
      ]
     },
     "execution_count": 42,
     "metadata": {},
     "output_type": "execute_result"
    }
   ],
   "source": [
    "b2 = A.dot(b1)\n",
    "display(b2)\n",
    "K2 = b2/np.sum(b2)\n",
    "K2"
   ]
  },
  {
   "cell_type": "code",
   "execution_count": 43,
   "metadata": {
    "ExecuteTime": {
     "end_time": "2019-05-22T09:38:22.686519Z",
     "start_time": "2019-05-22T09:38:22.674814Z"
    }
   },
   "outputs": [
    {
     "data": {
      "text/plain": [
       "59.5"
      ]
     },
     "execution_count": 43,
     "metadata": {},
     "output_type": "execute_result"
    }
   ],
   "source": [
    "np.sum(b1)"
   ]
  },
  {
   "cell_type": "code",
   "execution_count": 44,
   "metadata": {
    "ExecuteTime": {
     "end_time": "2019-05-22T09:38:28.060264Z",
     "start_time": "2019-05-22T09:38:28.055255Z"
    }
   },
   "outputs": [
    {
     "data": {
      "text/plain": [
       "220.0"
      ]
     },
     "execution_count": 44,
     "metadata": {},
     "output_type": "execute_result"
    }
   ],
   "source": [
    "np.sum(b2)"
   ]
  },
  {
   "cell_type": "code",
   "execution_count": null,
   "metadata": {},
   "outputs": [],
   "source": []
  },
  {
   "cell_type": "code",
   "execution_count": null,
   "metadata": {},
   "outputs": [],
   "source": []
  },
  {
   "cell_type": "code",
   "execution_count": null,
   "metadata": {},
   "outputs": [],
   "source": []
  },
  {
   "cell_type": "code",
   "execution_count": null,
   "metadata": {},
   "outputs": [],
   "source": []
  },
  {
   "cell_type": "code",
   "execution_count": null,
   "metadata": {},
   "outputs": [],
   "source": []
  },
  {
   "cell_type": "code",
   "execution_count": null,
   "metadata": {},
   "outputs": [],
   "source": []
  },
  {
   "cell_type": "code",
   "execution_count": null,
   "metadata": {},
   "outputs": [],
   "source": []
  },
  {
   "cell_type": "code",
   "execution_count": null,
   "metadata": {},
   "outputs": [],
   "source": []
  }
 ],
 "metadata": {
  "hide_input": false,
  "kernelspec": {
   "display_name": "Python 3",
   "language": "python",
   "name": "python3"
  },
  "language_info": {
   "codemirror_mode": {
    "name": "ipython",
    "version": 3
   },
   "file_extension": ".py",
   "mimetype": "text/x-python",
   "name": "python",
   "nbconvert_exporter": "python",
   "pygments_lexer": "ipython3",
   "version": "3.7.1"
  },
  "latex_envs": {
   "LaTeX_envs_menu_present": true,
   "autoclose": false,
   "autocomplete": true,
   "bibliofile": "biblio.bib",
   "cite_by": "apalike",
   "current_citInitial": 1,
   "eqLabelWithNumbers": true,
   "eqNumInitial": 1,
   "hotkeys": {
    "equation": "Ctrl-E",
    "itemize": "Ctrl-I"
   },
   "labels_anchors": false,
   "latex_user_defs": false,
   "report_style_numbering": false,
   "user_envs_cfg": false
  },
  "notify_time": "30",
  "toc": {
   "base_numbering": 1,
   "nav_menu": {},
   "number_sections": true,
   "sideBar": true,
   "skip_h1_title": false,
   "title_cell": "Table of Contents",
   "title_sidebar": "Contents",
   "toc_cell": false,
   "toc_position": {},
   "toc_section_display": true,
   "toc_window_display": false
  }
 },
 "nbformat": 4,
 "nbformat_minor": 2
}
